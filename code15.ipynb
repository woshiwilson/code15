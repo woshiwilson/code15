{
 "cells": [
  {
   "cell_type": "markdown",
   "metadata": {
    "colab_type": "text",
    "id": "P9hLRUX_x8s3"
   },
   "source": [
    "# Final Project"
   ]
  },
  {
   "cell_type": "markdown",
   "metadata": {
    "colab_type": "text",
    "id": "ACXteFRcx8s4"
   },
   "source": [
    "1. Import packages\n",
    "2. Scrape text\n",
    "3. Clean text (main)\n",
    "4. Get/Create features\n",
    "5. Get/Create key features\n",
    "6. Visualise data\n",
    "7. Split data\n",
    "8. Build model"
   ]
  },
  {
   "cell_type": "markdown",
   "metadata": {
    "colab_type": "text",
    "id": "8Vyo-Laix8s5"
   },
   "source": [
    "## Import packages"
   ]
  },
  {
   "cell_type": "code",
   "execution_count": 0,
   "metadata": {
    "colab": {
     "base_uri": "https://localhost:8080/",
     "height": 232
    },
    "colab_type": "code",
    "id": "TzQ28p0Nx8s5",
    "outputId": "c445070a-c2bf-4e0f-d541-c880ce9db52c",
    "scrolled": true
   },
   "outputs": [
    {
     "name": "stderr",
     "output_type": "stream",
     "text": [
      "Using TensorFlow backend.\n",
      "[nltk_data] Downloading package punkt to\n",
      "[nltk_data]     C:\\Users\\PW\\AppData\\Roaming\\nltk_data...\n",
      "[nltk_data]   Package punkt is already up-to-date!\n",
      "[nltk_data] Downloading package averaged_perceptron_tagger to\n",
      "[nltk_data]     C:\\Users\\PW\\AppData\\Roaming\\nltk_data...\n",
      "[nltk_data]   Package averaged_perceptron_tagger is already up-to-\n",
      "[nltk_data]       date!\n",
      "[nltk_data] Downloading package stopwords to\n",
      "[nltk_data]     C:\\Users\\PW\\AppData\\Roaming\\nltk_data...\n",
      "[nltk_data]   Package stopwords is already up-to-date!\n"
     ]
    },
    {
     "data": {
      "text/plain": [
       "True"
      ]
     },
     "execution_count": 1,
     "metadata": {
      "tags": []
     },
     "output_type": "execute_result"
    }
   ],
   "source": [
    "#import scrapy\n",
    "import pandas as pd\n",
    "import scipy as sp\n",
    "import datetime\n",
    "from dateutil import parser\n",
    "import math\n",
    "import nltk\n",
    "from nltk.corpus import stopwords\n",
    "import seaborn as sns\n",
    "import matplotlib.pyplot as plt\n",
    "%matplotlib inline\n",
    "from bs4 import BeautifulSoup\n",
    "from collections import Counter\n",
    "import re, string, unicodedata\n",
    "from nltk import word_tokenize, sent_tokenize\n",
    "from sklearn import model_selection, metrics, preprocessing\n",
    "from sklearn.feature_extraction.text import TfidfVectorizer, CountVectorizer\n",
    "from sklearn import linear_model, svm\n",
    "import lightgbm\n",
    "from nltk.tokenize import TreebankWordTokenizer\n",
    "from sklearn.metrics import mean_squared_error\n",
    "from sklearn.metrics import mean_absolute_error\n",
    "import datetime\n",
    "import numpy as np\n",
    "from keras.callbacks import EarlyStopping\n",
    "import glob, random, re, inspect, pickle, os\n",
    "from random import sample\n",
    "from sklearn.feature_extraction.text import CountVectorizer, TfidfVectorizer\n",
    "from sklearn.pipeline import make_pipeline, Pipeline, make_union\n",
    "from sklearn.model_selection import RandomizedSearchCV, GridSearchCV, StratifiedKFold, cross_val_score, train_test_split\n",
    "from sklearn.preprocessing import FunctionTransformer, LabelEncoder\n",
    "import matplotlib.pyplot as plt\n",
    "from keras.models import Model, Sequential\n",
    "from keras.layers import Input, Dense, Embedding, LSTM, Activation, Flatten, Conv1D, GlobalMaxPooling1D, Dropout, Concatenate\n",
    "from keras.utils import to_categorical, np_utils\n",
    "from keras.preprocessing.sequence import pad_sequences\n",
    "from keras.preprocessing.text import Tokenizer\n",
    "from keras.wrappers.scikit_learn import KerasClassifier\n",
    "from keras.callbacks import EarlyStopping\n",
    "from IPython.core.display import display, HTML\n",
    "from gensim.models import KeyedVectors\n",
    "from nltk.stem import LancasterStemmer, WordNetLemmatizer\n",
    "import nltk\n",
    "nltk.download('punkt')\n",
    "nltk.download('averaged_perceptron_tagger')\n",
    "nltk.download('stopwords')"
   ]
  },
  {
   "cell_type": "code",
   "execution_count": 0,
   "metadata": {
    "colab": {},
    "colab_type": "code",
    "id": "VY4rnR50x8s9"
   },
   "outputs": [],
   "source": [
    "start = datetime.datetime.now()"
   ]
  },
  {
   "cell_type": "code",
   "execution_count": 0,
   "metadata": {
    "colab": {},
    "colab_type": "code",
    "id": "DEewliEtx8tA"
   },
   "outputs": [],
   "source": [
    "source_data = pd.read_csv('OnlineNewsPopularity.csv')"
   ]
  },
  {
   "cell_type": "markdown",
   "metadata": {},
   "source": [
    "## Scrape text (to skip this portion when rerunning the codes)"
   ]
  },
  {
   "cell_type": "code",
   "execution_count": 0,
   "metadata": {
    "colab": {},
    "colab_type": "code",
    "id": "DSQjk1mpx8tC"
   },
   "outputs": [],
   "source": [
    "BOT_NAME = 'mlproject'\n",
    "\n",
    "SPIDER_MODULES = ['mlproject.spiders']\n",
    "NEWSPIDER_MODULE = 'mlproject.spiders'\n",
    "\n",
    "ROBOTSTXT_OBEY = False\n",
    "\n",
    "FEED_FORMAT = \"csv\"\n",
    "FEED_URI = \"data_mashable3.csv\""
   ]
  },
  {
   "cell_type": "code",
   "execution_count": 0,
   "metadata": {
    "colab": {},
    "colab_type": "code",
    "id": "J-0yslNLx8tE"
   },
   "outputs": [],
   "source": [
    "class MlprojectSpider(scrapy.Spider):\n",
    "    name = 'mlproject'\n",
    "    allowed_domains = ['www.mashable.com']\n",
    "    start_urls = list(source_data['url'])\n",
    "    \n",
    "    def parse(self, response):\n",
    "            #Extracting the content using css selectors\n",
    "            datetime = response.css(\"time::attr(datetime)\").extract()\n",
    "            content = response.css(\".article-content\").extract()\n",
    "            topics = response.css(\".article-topics\").extract()\n",
    "            website = response.xpath(\"//meta/@content\")[12:13].extract()\n",
    "            title = response.xpath(\"//meta/@content\")[13:14].extract()\n",
    "            \n",
    "            #Give the extracted content row wise\n",
    "            for item in zip(title,topics,content,datetime,website):\n",
    "                #create a dictionary to store the scraped info\n",
    "                scraped_info = {\n",
    "                    'title' : item[0],\n",
    "                    'topics' : item[1],\n",
    "                    'content' : item[2],\n",
    "                    'datetime' : item[3],\n",
    "                    'website' : item[4]\n",
    "                }\n",
    "        \n",
    "                #yield or give the scraped info to scrapy\n",
    "                yield scraped_info"
   ]
  },
  {
   "cell_type": "markdown",
   "metadata": {
    "colab_type": "text",
    "id": "aYFqYIeex8tH"
   },
   "source": [
    "## Clean text (main)"
   ]
  },
  {
   "cell_type": "code",
   "execution_count": 0,
   "metadata": {
    "colab": {},
    "colab_type": "code",
    "id": "-pDfzpecx8tH"
   },
   "outputs": [],
   "source": [
    "scraped_data = pd.read_csv(\"fulldatacleaned.csv\", encoding='utf-8')"
   ]
  },
  {
   "cell_type": "code",
   "execution_count": 0,
   "metadata": {
    "colab": {},
    "colab_type": "code",
    "id": "6jWoVCgBx8tK"
   },
   "outputs": [],
   "source": [
    "def remove_non_ascii(words):\n",
    "    \"\"\"Remove non-ASCII characters from list of tokenized words\"\"\"\n",
    "    new_words = []\n",
    "    for word in words:\n",
    "        new_word = unicodedata.normalize('NFKD', word).encode('ascii', 'ignore').decode('utf-8', 'ignore')\n",
    "        new_words.append(new_word)\n",
    "    return new_words\n",
    "\n",
    "def remove_punctuation(words):\n",
    "    \"\"\"Remove punctuation from list of tokenized words\"\"\"\n",
    "    new_words = []\n",
    "    for word in words:\n",
    "        new_word = re.sub(r'[^\\w\\s]', '', word)\n",
    "        if new_word != '':\n",
    "            new_words.append(new_word)\n",
    "    return new_words\n",
    "\n",
    "def remove_stopwords(words):\n",
    "    \"\"\"Remove stop words from list of tokenized words\"\"\"\n",
    "    new_words = []\n",
    "    for word in words:\n",
    "        if word not in stopwords.words('english'):\n",
    "            new_words.append(word)\n",
    "    return new_words\n",
    "\n",
    "def stem_words(words):\n",
    "    \"\"\"Stem words in list of tokenized words\"\"\"\n",
    "    stemmer = LancasterStemmer()\n",
    "    stems = []\n",
    "    for word in words:\n",
    "        stem = stemmer.stem(word)\n",
    "        stems.append(stem)\n",
    "    return stems\n",
    "\n",
    "def normalize(words):\n",
    "    words = remove_non_ascii(words)\n",
    "    words = remove_punctuation(words)\n",
    "    words = remove_stopwords(words)\n",
    "    words = stem_words(words)\n",
    "    return words\n",
    "\n",
    "def data_to_words( raw_text ):\n",
    "    # 1. Remove HTML\n",
    "    data_text = BeautifulSoup(raw_text).get_text() \n",
    "    \n",
    "    # 2. Convert to lower case, split into individual words\n",
    "    words = data_text.lower().split()  \n",
    "    \n",
    "    words = normalize(words)\n",
    "    \n",
    "    return( \" \".join(words)) "
   ]
  },
  {
   "cell_type": "code",
   "execution_count": 0,
   "metadata": {
    "colab": {
     "base_uri": "https://localhost:8080/",
     "height": 106
    },
    "colab_type": "code",
    "id": "Wbe7GWdGx8tM",
    "outputId": "dfc23167-4980-4b82-aeca-83c61d711d77"
   },
   "outputs": [
    {
     "name": "stderr",
     "output_type": "stream",
     "text": [
      "/usr/local/lib/python3.6/dist-packages/ipykernel_launcher.py:23: SettingWithCopyWarning: \n",
      "A value is trying to be set on a copy of a slice from a DataFrame.\n",
      "Try using .loc[row_indexer,col_indexer] = value instead\n",
      "\n",
      "See the caveats in the documentation: https://pandas.pydata.org/pandas-docs/stable/user_guide/indexing.html#returning-a-view-versus-a-copy\n"
     ]
    }
   ],
   "source": [
    "clean_topics = []\n",
    "\n",
    "for i in range(0, scraped_data['topics'].size ):\n",
    "    # Call our function for each one, and add the result to the list of\n",
    "    # clean reviews\n",
    "    clean_topics.append( data_to_words( scraped_data['topics'][i] ) )\n",
    "\n",
    "clean_content = []\n",
    "\n",
    "for i in range(0, scraped_data['content'].size ):\n",
    "    # Call our function for each one, and add the result to the list of\n",
    "    # clean reviews\n",
    "    clean_content.append( data_to_words( scraped_data['content'][i] ) )\n",
    "    \n",
    "clean_title = []\n",
    "\n",
    "for i in range(0, scraped_data['title'].size ):\n",
    "    # Call our function for each one, and add the result to the list of\n",
    "    # clean reviews\n",
    "    clean_title.append( data_to_words( scraped_data['title'][i] ) )\n",
    "\n",
    "final_Outcome = scraped_data[['title', 'datetime', 'website','check']]\n",
    "final_Outcome['Clean_topics'] = clean_topics\n",
    "final_Outcome['Clean_content'] = clean_content\n",
    "final_Outcome['Clean_title'] = clean_title\n",
    "\n"
   ]
  },
  {
   "cell_type": "code",
   "execution_count": 0,
   "metadata": {
    "colab": {
     "base_uri": "https://localhost:8080/",
     "height": 141
    },
    "colab_type": "code",
    "id": "LZhxRfB_bbQn",
    "outputId": "ed8979dc-46bc-4cb8-e088-6acbe1f10f24"
   },
   "outputs": [
    {
     "name": "stdout",
     "output_type": "stream",
     "text": [
      "328326\n",
      "   word  count\n",
      "0   007      2\n",
      "1     1     11\n",
      "2    10    109\n",
      "3   100      4\n",
      "4  1000      1\n"
     ]
    }
   ],
   "source": [
    "dataframe = final_Outcome\n",
    "\n",
    "all_topics = []\n",
    "for i in dataframe.Clean_topics:\n",
    "    for j in i.split(\" \"):\n",
    "        all_topics.append(j)\n",
    "print(len(all_topics))\n",
    "\n",
    "\n",
    "#Getting the frequency of the tags of the articles\n",
    "keywords_base = pd.DataFrame(all_topics)\n",
    "keywords_base.columns = ['words']\n",
    "\n",
    "keywords_freq = keywords_base.groupby('words').agg({'words': ['count']})\n",
    "keywords_freq = keywords_freq.reset_index()\n",
    "keywords_freq.columns = ['word', 'count']\n",
    "\n",
    "print(keywords_freq.head(5))\n",
    "\n",
    "#Creating a dictionary - Word: Count for faster recall and calculation\n",
    "words = keywords_freq['word'].tolist()\n",
    "count = keywords_freq['count'].tolist()\n",
    "max = len(words) - 1\n",
    "i = 0\n",
    "word_dict = {}\n",
    "while i <= max:\n",
    "    word_dict[words[i]] = count[i]\n",
    "    i = i + 1\n",
    "\n",
    "#Removal of keywords that are too frequent (the cut off is identified via a distribution plot). This is done by a creation of a \"stopword\" list\n",
    "stopwords = keywords_freq[(keywords_freq['count'] >= 600)]\n",
    "stopwordlist = stopwords['word'].tolist()\n",
    "\n",
    "\n",
    "# Taking the average repitition score of the tags - the higher the score, the less unique it is (many articles with similar tags\n",
    "def Average(lst): \n",
    "    return sum(lst) / len(lst) \n",
    "\n",
    "def repititionscore(row):\n",
    "    x = row['Clean_topics']\n",
    "    keywords = str(x).split(' ')\n",
    "    counter = 0\n",
    "    test = []\n",
    "    for i in keywords:\n",
    "        if i in stopwordlist:\n",
    "            next\n",
    "        else:\n",
    "            test.append(word_dict[i])\n",
    "    if len(test) == 0:\n",
    "        value = 600\n",
    "    else:\n",
    "        value = Average(test)\n",
    "    return value\n",
    "\n",
    "\n",
    "dataframe['keywords'] = dataframe.apply(repititionscore, axis=1)\n",
    "\n",
    "final_Outcome = dataframe\n",
    "\n",
    "final_Outcome.to_csv(\"Clean_Data.csv\", index=False)"
   ]
  },
  {
   "cell_type": "markdown",
   "metadata": {
    "colab_type": "text",
    "id": "ahpXCrC2x8uz"
   },
   "source": [
    "## Get/Create features"
   ]
  },
  {
   "cell_type": "code",
   "execution_count": 0,
   "metadata": {
    "colab": {},
    "colab_type": "code",
    "id": "4T8SYdW2x8uz",
    "scrolled": true
   },
   "outputs": [],
   "source": [
    "content_data = pd.read_csv('Clean_Data.csv')"
   ]
  },
  {
   "cell_type": "code",
   "execution_count": 0,
   "metadata": {
    "colab": {
     "base_uri": "https://localhost:8080/",
     "height": 106
    },
    "colab_type": "code",
    "id": "aC5Omri4x8u1",
    "outputId": "68b6198a-b49b-4c93-d7b5-bbe327e9aa52",
    "scrolled": false
   },
   "outputs": [
    {
     "name": "stderr",
     "output_type": "stream",
     "text": [
      "/usr/local/lib/python3.6/dist-packages/ipykernel_launcher.py:3: SettingWithCopyWarning: \n",
      "A value is trying to be set on a copy of a slice from a DataFrame\n",
      "\n",
      "See the caveats in the documentation: https://pandas.pydata.org/pandas-docs/stable/user_guide/indexing.html#returning-a-view-versus-a-copy\n",
      "  This is separate from the ipykernel package so we can avoid doing imports until\n"
     ]
    }
   ],
   "source": [
    "##### join some source data to content_data #####\n",
    "\n",
    "for i in range(len(source_data)):\n",
    "    source_data['url'][i] = source_data['url'][i].replace('http', 'https', 1)\n",
    "\n",
    "content_with_source = content_data.merge(source_data[['url',\n",
    "                                                      ' shares',\n",
    "                                                      ' n_tokens_title', #num words in title\n",
    "                                                      ' n_tokens_content', #num words in content\n",
    "                                                      ' n_non_stop_unique_tokens', #rate of non-stopword unique words in content\n",
    "                                                      ' num_self_hrefs', #num links to other Mashable articles\n",
    "                                                      ' num_imgs', #num images\n",
    "                                                      ' num_videos', #num videos\n",
    "                                                      ' average_token_length', #avg length of words in content\n",
    "                                                      ' data_channel_is_lifestyle',\n",
    "                                                      ' data_channel_is_entertainment',\n",
    "                                                      ' data_channel_is_bus',\n",
    "                                                      ' data_channel_is_socmed',\n",
    "                                                      ' data_channel_is_tech',\n",
    "                                                      ' data_channel_is_world',\n",
    "                                                      ' is_weekend',\n",
    "                                                      ' LDA_00', #closeness to topic0\n",
    "                                                      ' LDA_01', #closeness to topic1\n",
    "                                                      ' LDA_02', #closeness to topic2\n",
    "                                                      ' LDA_03', #closeness to topic3\n",
    "                                                      ' LDA_04', #closeness to topic4\n",
    "                                                      ' global_subjectivity', #text subjectivity\n",
    "                                                      ' global_sentiment_polarity', #text sentiment polarity\n",
    "                                                      ' global_rate_positive_words', #rate of positive words in content\n",
    "                                                      ' global_rate_negative_words', #rate of negative words in content\n",
    "                                                      ' rate_positive_words', #rate of positive words among non-neutral tokens\n",
    "                                                      ' rate_negative_words', #rate of negative words among non-neutral tokens\n",
    "                                                      ' avg_positive_polarity',\n",
    "                                                      ' min_positive_polarity',\n",
    "                                                      ' max_positive_polarity',\n",
    "                                                      ' avg_negative_polarity',\n",
    "                                                      ' min_negative_polarity',\n",
    "                                                      ' max_negative_polarity',\n",
    "                                                      ' title_subjectivity',\n",
    "                                                      ' title_sentiment_polarity',\n",
    "                                                      ' abs_title_subjectivity',\n",
    "                                                      ' abs_title_sentiment_polarity'\n",
    "                                                    ]], \n",
    "                                         left_on = 'website', \n",
    "                                         right_on = 'url', \n",
    "                                         how = 'left')"
   ]
  },
  {
   "cell_type": "code",
   "execution_count": 0,
   "metadata": {
    "colab": {},
    "colab_type": "code",
    "id": "JIXoghHPx8u5",
    "scrolled": true
   },
   "outputs": [],
   "source": [
    "content_with_source = content_with_source.dropna()\n",
    "content_with_source = content_with_source.reset_index()"
   ]
  },
  {
   "cell_type": "code",
   "execution_count": 0,
   "metadata": {
    "colab": {
     "base_uri": "https://localhost:8080/",
     "height": 746
    },
    "colab_type": "code",
    "id": "pvbeur0Zx8u7",
    "outputId": "bcfad7d4-fe8c-4467-9a2a-33f7a1edd379",
    "scrolled": true
   },
   "outputs": [
    {
     "name": "stderr",
     "output_type": "stream",
     "text": [
      "/usr/local/lib/python3.6/dist-packages/ipykernel_launcher.py:15: SettingWithCopyWarning: \n",
      "A value is trying to be set on a copy of a slice from a DataFrame\n",
      "\n",
      "See the caveats in the documentation: https://pandas.pydata.org/pandas-docs/stable/user_guide/indexing.html#returning-a-view-versus-a-copy\n",
      "  from ipykernel import kernelapp as app\n",
      "/usr/local/lib/python3.6/dist-packages/ipykernel_launcher.py:17: SettingWithCopyWarning: \n",
      "A value is trying to be set on a copy of a slice from a DataFrame\n",
      "\n",
      "See the caveats in the documentation: https://pandas.pydata.org/pandas-docs/stable/user_guide/indexing.html#returning-a-view-versus-a-copy\n",
      "/usr/local/lib/python3.6/dist-packages/ipykernel_launcher.py:18: SettingWithCopyWarning: \n",
      "A value is trying to be set on a copy of a slice from a DataFrame\n",
      "\n",
      "See the caveats in the documentation: https://pandas.pydata.org/pandas-docs/stable/user_guide/indexing.html#returning-a-view-versus-a-copy\n",
      "/usr/local/lib/python3.6/dist-packages/ipykernel_launcher.py:19: SettingWithCopyWarning: \n",
      "A value is trying to be set on a copy of a slice from a DataFrame\n",
      "\n",
      "See the caveats in the documentation: https://pandas.pydata.org/pandas-docs/stable/user_guide/indexing.html#returning-a-view-versus-a-copy\n",
      "/usr/local/lib/python3.6/dist-packages/ipykernel_launcher.py:21: SettingWithCopyWarning: \n",
      "A value is trying to be set on a copy of a slice from a DataFrame\n",
      "\n",
      "See the caveats in the documentation: https://pandas.pydata.org/pandas-docs/stable/user_guide/indexing.html#returning-a-view-versus-a-copy\n",
      "/usr/local/lib/python3.6/dist-packages/ipykernel_launcher.py:22: SettingWithCopyWarning: \n",
      "A value is trying to be set on a copy of a slice from a DataFrame\n",
      "\n",
      "See the caveats in the documentation: https://pandas.pydata.org/pandas-docs/stable/user_guide/indexing.html#returning-a-view-versus-a-copy\n",
      "/usr/local/lib/python3.6/dist-packages/ipykernel_launcher.py:24: SettingWithCopyWarning: \n",
      "A value is trying to be set on a copy of a slice from a DataFrame\n",
      "\n",
      "See the caveats in the documentation: https://pandas.pydata.org/pandas-docs/stable/user_guide/indexing.html#returning-a-view-versus-a-copy\n",
      "/usr/local/lib/python3.6/dist-packages/ipykernel_launcher.py:25: SettingWithCopyWarning: \n",
      "A value is trying to be set on a copy of a slice from a DataFrame\n",
      "\n",
      "See the caveats in the documentation: https://pandas.pydata.org/pandas-docs/stable/user_guide/indexing.html#returning-a-view-versus-a-copy\n",
      "/usr/local/lib/python3.6/dist-packages/ipykernel_launcher.py:27: SettingWithCopyWarning: \n",
      "A value is trying to be set on a copy of a slice from a DataFrame\n",
      "\n",
      "See the caveats in the documentation: https://pandas.pydata.org/pandas-docs/stable/user_guide/indexing.html#returning-a-view-versus-a-copy\n",
      "/usr/local/lib/python3.6/dist-packages/ipykernel_launcher.py:28: SettingWithCopyWarning: \n",
      "A value is trying to be set on a copy of a slice from a DataFrame\n",
      "\n",
      "See the caveats in the documentation: https://pandas.pydata.org/pandas-docs/stable/user_guide/indexing.html#returning-a-view-versus-a-copy\n"
     ]
    }
   ],
   "source": [
    "##### get selected features and create new features from source_data #####\n",
    "\n",
    "content_with_source['dt'] = None\n",
    "content_with_source['week_of_year'] = None\n",
    "content_with_source['day_of_week'] = None\n",
    "content_with_source['hour_of_day'] = None\n",
    "content_with_source['xhr'] = None\n",
    "content_with_source['yhr'] = None\n",
    "content_with_source['xday'] = None\n",
    "content_with_source['yday'] = None\n",
    "content_with_source['xwk'] = None\n",
    "content_with_source['ywk'] = None\n",
    "\n",
    "for i in range(len(content_with_source)):\n",
    "    \n",
    "    content_with_source['dt'][i] = parser.parse(content_with_source['datetime'][i])\n",
    "    \n",
    "    content_with_source['week_of_year'][i] = content_with_source['dt'][i].isocalendar()[1]\n",
    "    content_with_source['day_of_week'][i] = content_with_source['dt'][i].weekday()\n",
    "    content_with_source['hour_of_day'][i] = content_with_source['dt'][i].hour\n",
    "    \n",
    "    content_with_source['xhr'][i] = math.sin(2 * math.pi * content_with_source['hour_of_day'][i] / 24)\n",
    "    content_with_source['yhr'][i] = math.cos(2 * math.pi * content_with_source['hour_of_day'][i] / 24)\n",
    "\n",
    "    content_with_source['xday'][i] = math.sin(2 * math.pi * content_with_source['day_of_week'][i] / 7)\n",
    "    content_with_source['yday'][i] = math.cos(2 * math.pi * content_with_source['day_of_week'][i] / 7)\n",
    "\n",
    "    content_with_source['xwk'][i] = math.sin(2 * math.pi * content_with_source['week_of_year'][i] / 53)\n",
    "    content_with_source['ywk'][i] = math.cos(2 * math.pi * content_with_source['week_of_year'][i] / 53)"
   ]
  },
  {
   "cell_type": "code",
   "execution_count": 0,
   "metadata": {
    "colab": {},
    "colab_type": "code",
    "id": "gUjSa39mx8u9",
    "scrolled": false
   },
   "outputs": [],
   "source": [
    "del content_with_source['dt']\n",
    "del content_with_source['week_of_year']\n",
    "del content_with_source['day_of_week']\n",
    "del content_with_source['hour_of_day']"
   ]
  },
  {
   "cell_type": "code",
   "execution_count": 0,
   "metadata": {
    "colab": {},
    "colab_type": "code",
    "id": "PQunkoEy_f0P"
   },
   "outputs": [],
   "source": [
    "content_with_source['Clean_content2'] = content_with_source['Clean_content']\n",
    "content_with_source['Clean_topics2'] = content_with_source['Clean_topics']\n",
    "content_with_source['Clean_title2'] = content_with_source['Clean_title']"
   ]
  },
  {
   "cell_type": "code",
   "execution_count": 0,
   "metadata": {
    "colab": {
     "base_uri": "https://localhost:8080/",
     "height": 284
    },
    "colab_type": "code",
    "id": "3XTCV351x8u_",
    "outputId": "5f8bc5cf-d290-4b27-9689-96a6ea677ea4",
    "scrolled": true
   },
   "outputs": [
    {
     "name": "stderr",
     "output_type": "stream",
     "text": [
      "/usr/local/lib/python3.6/dist-packages/ipykernel_launcher.py:3: SettingWithCopyWarning: \n",
      "A value is trying to be set on a copy of a slice from a DataFrame\n",
      "\n",
      "See the caveats in the documentation: https://pandas.pydata.org/pandas-docs/stable/user_guide/indexing.html#returning-a-view-versus-a-copy\n",
      "  This is separate from the ipykernel package so we can avoid doing imports until\n",
      "/usr/local/lib/python3.6/dist-packages/ipykernel_launcher.py:4: SettingWithCopyWarning: \n",
      "A value is trying to be set on a copy of a slice from a DataFrame\n",
      "\n",
      "See the caveats in the documentation: https://pandas.pydata.org/pandas-docs/stable/user_guide/indexing.html#returning-a-view-versus-a-copy\n",
      "  after removing the cwd from sys.path.\n",
      "/usr/local/lib/python3.6/dist-packages/ipykernel_launcher.py:5: SettingWithCopyWarning: \n",
      "A value is trying to be set on a copy of a slice from a DataFrame\n",
      "\n",
      "See the caveats in the documentation: https://pandas.pydata.org/pandas-docs/stable/user_guide/indexing.html#returning-a-view-versus-a-copy\n",
      "  \"\"\"\n"
     ]
    }
   ],
   "source": [
    "##### tokenize texts #####\n",
    "\n",
    "for i in range(len(content_with_source)):\n",
    "    content_with_source['Clean_content'][i] = nltk.word_tokenize(content_with_source['Clean_content'][i])\n",
    "    content_with_source['Clean_topics'][i] = nltk.word_tokenize(content_with_source['Clean_topics'][i])\n",
    "    content_with_source['Clean_title'][i] = nltk.word_tokenize(content_with_source['Clean_title'][i])"
   ]
  },
  {
   "cell_type": "markdown",
   "metadata": {
    "colab_type": "text",
    "id": "GitwHc2Fx8vA"
   },
   "source": [
    "## Get/Create key features"
   ]
  },
  {
   "cell_type": "code",
   "execution_count": 0,
   "metadata": {
    "colab": {},
    "colab_type": "code",
    "id": "2ynaxR2px8vB",
    "scrolled": true
   },
   "outputs": [],
   "source": [
    "def remove_non_ascii2(words):\n",
    "    \"\"\"Remove non-ASCII characters from list of tokenized words\"\"\"\n",
    "    new_words = []\n",
    "    for word in words:\n",
    "        new_word = unicodedata.normalize('NFKD', word).encode('ascii', 'ignore').decode('utf-8', 'ignore')\n",
    "        new_words.append(new_word)\n",
    "    return new_words\n",
    "\n",
    "def normalize2(words):\n",
    "    words = remove_non_ascii2(words)\n",
    "    return words\n",
    "\n",
    "def data_to_words2( raw_text ):\n",
    "    # 1. Remove HTML\n",
    "    data_text = BeautifulSoup(raw_text).get_text() \n",
    "    \n",
    "    # 2. Convert to lower case, split into individual words\n",
    "    words = data_text.lower().split()  \n",
    "    \n",
    "    words = normalize2(words)\n",
    "    \n",
    "    return( \" \".join(words)) \n",
    "\n",
    "scraped_data['content_lightcleaning'] = scraped_data['content'].apply(lambda x: data_to_words2(x))"
   ]
  },
  {
   "cell_type": "code",
   "execution_count": 0,
   "metadata": {
    "colab": {},
    "colab_type": "code",
    "id": "w7c-5WHmx8vD",
    "scrolled": true
   },
   "outputs": [],
   "source": [
    "content_with_source = content_with_source.merge(scraped_data[['website', 'content_lightcleaning']],\n",
    "                                                left_on = 'website', \n",
    "                                                right_on = 'website', \n",
    "                                                how = 'left')"
   ]
  },
  {
   "cell_type": "code",
   "execution_count": 0,
   "metadata": {
    "colab": {
     "base_uri": "https://localhost:8080/",
     "height": 266
    },
    "colab_type": "code",
    "id": "0lSiozKKx8vF",
    "outputId": "534ac201-b58b-454e-c829-a63ffac5c89a",
    "scrolled": true
   },
   "outputs": [
    {
     "name": "stderr",
     "output_type": "stream",
     "text": [
      "/usr/local/lib/python3.6/dist-packages/ipykernel_launcher.py:11: SettingWithCopyWarning: \n",
      "A value is trying to be set on a copy of a slice from a DataFrame\n",
      "\n",
      "See the caveats in the documentation: https://pandas.pydata.org/pandas-docs/stable/user_guide/indexing.html#returning-a-view-versus-a-copy\n",
      "  # This is added back by InteractiveShellApp.init_path()\n",
      "/usr/local/lib/python3.6/dist-packages/ipykernel_launcher.py:12: SettingWithCopyWarning: \n",
      "A value is trying to be set on a copy of a slice from a DataFrame\n",
      "\n",
      "See the caveats in the documentation: https://pandas.pydata.org/pandas-docs/stable/user_guide/indexing.html#returning-a-view-versus-a-copy\n",
      "  if sys.path[0] == '':\n",
      "/usr/local/lib/python3.6/dist-packages/ipykernel_launcher.py:21: SettingWithCopyWarning: \n",
      "A value is trying to be set on a copy of a slice from a DataFrame\n",
      "\n",
      "See the caveats in the documentation: https://pandas.pydata.org/pandas-docs/stable/user_guide/indexing.html#returning-a-view-versus-a-copy\n"
     ]
    }
   ],
   "source": [
    "##### Num & % of Verbs and Average sentence length #####\n",
    "\n",
    "content_with_source['num_verbs'] = None\n",
    "content_with_source['prop_verbs'] = None\n",
    "content_with_source['avg_sent_len'] = None\n",
    "\n",
    "for i in range(len(content_with_source)):\n",
    "    tokens = nltk.word_tokenize(scraped_data['content_lightcleaning'][i])\n",
    "    text = nltk.Text(tokens)\n",
    "    tags = nltk.pos_tag(text)\n",
    "    counts = Counter(tag for word, tag in tags)\n",
    "    content_with_source['num_verbs'][i] = counts['VB'] + counts['VBD'] + counts['VBG'] + counts['VBN'] + counts['VBP'] + counts['VBZ']\n",
    "    content_with_source['prop_verbs'][i] = content_with_source['num_verbs'][i] / (sum(counts.values())+1)\n",
    "    \n",
    "    terminals = set([\".\", \"?\", \"!\"])\n",
    "    terminal_count = 0\n",
    "\n",
    "    for item in tokens:\n",
    "        if item in terminals:\n",
    "            terminal_count += 1\n",
    "    \n",
    "    content_with_source['avg_sent_len'][i] = (len(tokens) - terminal_count)  / (float(terminal_count)+1)"
   ]
  },
  {
   "cell_type": "code",
   "execution_count": 0,
   "metadata": {
    "colab": {
     "base_uri": "https://localhost:8080/",
     "height": 159
    },
    "colab_type": "code",
    "id": "v2oS0qflx8vH",
    "outputId": "3c1ee91f-4a5b-4c61-aa6a-e89e5f7172a5",
    "scrolled": false
   },
   "outputs": [
    {
     "name": "stderr",
     "output_type": "stream",
     "text": [
      "/usr/local/lib/python3.6/dist-packages/ipykernel_launcher.py:23: SettingWithCopyWarning: \n",
      "A value is trying to be set on a copy of a slice from a DataFrame\n",
      "\n",
      "See the caveats in the documentation: https://pandas.pydata.org/pandas-docs/stable/user_guide/indexing.html#returning-a-view-versus-a-copy\n",
      "/usr/local/lib/python3.6/dist-packages/ipykernel_launcher.py:25: SettingWithCopyWarning: \n",
      "A value is trying to be set on a copy of a slice from a DataFrame\n",
      "\n",
      "See the caveats in the documentation: https://pandas.pydata.org/pandas-docs/stable/user_guide/indexing.html#returning-a-view-versus-a-copy\n"
     ]
    }
   ],
   "source": [
    "##### Average word length and word syllable length #####\n",
    "\n",
    "def syllable_count(word):\n",
    "    word = word.lower()\n",
    "    count = 0\n",
    "    vowels = \"aeiouy\"\n",
    "    if word[0] in vowels:\n",
    "        count += 1\n",
    "    for index in range(1, len(word)):\n",
    "        if word[index] in vowels and word[index - 1] not in vowels:\n",
    "            count += 1\n",
    "    if word.endswith(\"e\"):\n",
    "        count -= 1\n",
    "    if count == 0:\n",
    "        count += 1\n",
    "    return count\n",
    "\n",
    "content_with_source['avg_word_len'] = None\n",
    "content_with_source['avg_word_syl'] = None\n",
    "\n",
    "for i in range(len(content_with_source)):\n",
    "    sentences = content_with_source['content_lightcleaning'][i]\n",
    "    words = sentences.split()\n",
    "    content_with_source['avg_word_len'][i] = sum(len(word) for word in words) / len(words)\n",
    "    \n",
    "    content_with_source['avg_word_syl'][i] = syllable_count(content_with_source['content_lightcleaning'][i]) / len(words)"
   ]
  },
  {
   "cell_type": "code",
   "execution_count": 0,
   "metadata": {
    "colab": {},
    "colab_type": "code",
    "id": "XvGZt5S9x8vJ"
   },
   "outputs": [],
   "source": [
    "del content_with_source['content_lightcleaning']"
   ]
  },
  {
   "cell_type": "markdown",
   "metadata": {
    "colab_type": "text",
    "id": "STJWlRM4x8vM"
   },
   "source": [
    "## Visualise data"
   ]
  },
  {
   "cell_type": "code",
   "execution_count": 0,
   "metadata": {
    "colab": {},
    "colab_type": "code",
    "id": "y7tjt0iBx8vM",
    "scrolled": true
   },
   "outputs": [],
   "source": [
    "content_with_source.to_csv('content_with_source_final.csv', index = False)\n",
    "content_with_source = pd.read_csv('content_with_source_final.csv')"
   ]
  },
  {
   "cell_type": "code",
   "execution_count": 0,
   "metadata": {
    "colab": {
     "base_uri": "https://localhost:8080/",
     "height": 1000
    },
    "colab_type": "code",
    "id": "BEKAJu7GbbRI",
    "outputId": "5f7f9a56-0115-4b11-beda-2a35c6f03460",
    "scrolled": true
   },
   "outputs": [
    {
     "name": "stdout",
     "output_type": "stream",
     "text": [
      "<class 'pandas.core.frame.DataFrame'>\n",
      "RangeIndex: 38188 entries, 0 to 38187\n",
      "Data columns (total 60 columns):\n",
      "index                             38188 non-null int64\n",
      "title                             38188 non-null object\n",
      "datetime                          38188 non-null object\n",
      "website                           38188 non-null object\n",
      "check                             38188 non-null object\n",
      "Clean_topics                      38188 non-null object\n",
      "Clean_content                     38188 non-null object\n",
      "Clean_title                       38188 non-null object\n",
      "keywords                          38188 non-null float64\n",
      "url                               38188 non-null object\n",
      " shares                           38188 non-null float64\n",
      " n_tokens_title                   38188 non-null float64\n",
      " n_tokens_content                 38188 non-null float64\n",
      " n_non_stop_unique_tokens         38188 non-null float64\n",
      " num_self_hrefs                   38188 non-null float64\n",
      " num_imgs                         38188 non-null float64\n",
      " num_videos                       38188 non-null float64\n",
      " average_token_length             38188 non-null float64\n",
      " data_channel_is_lifestyle        38188 non-null float64\n",
      " data_channel_is_entertainment    38188 non-null float64\n",
      " data_channel_is_bus              38188 non-null float64\n",
      " data_channel_is_socmed           38188 non-null float64\n",
      " data_channel_is_tech             38188 non-null float64\n",
      " data_channel_is_world            38188 non-null float64\n",
      " is_weekend                       38188 non-null float64\n",
      " LDA_00                           38188 non-null float64\n",
      " LDA_01                           38188 non-null float64\n",
      " LDA_02                           38188 non-null float64\n",
      " LDA_03                           38188 non-null float64\n",
      " LDA_04                           38188 non-null float64\n",
      " global_subjectivity              38188 non-null float64\n",
      " global_sentiment_polarity        38188 non-null float64\n",
      " global_rate_positive_words       38188 non-null float64\n",
      " global_rate_negative_words       38188 non-null float64\n",
      " rate_positive_words              38188 non-null float64\n",
      " rate_negative_words              38188 non-null float64\n",
      " avg_positive_polarity            38188 non-null float64\n",
      " min_positive_polarity            38188 non-null float64\n",
      " max_positive_polarity            38188 non-null float64\n",
      " avg_negative_polarity            38188 non-null float64\n",
      " min_negative_polarity            38188 non-null float64\n",
      " max_negative_polarity            38188 non-null float64\n",
      " title_subjectivity               38188 non-null float64\n",
      " title_sentiment_polarity         38188 non-null float64\n",
      " abs_title_subjectivity           38188 non-null float64\n",
      " abs_title_sentiment_polarity     38188 non-null float64\n",
      "xhr                               38188 non-null float64\n",
      "yhr                               38188 non-null float64\n",
      "xday                              38188 non-null float64\n",
      "yday                              38188 non-null float64\n",
      "xwk                               38188 non-null float64\n",
      "ywk                               38188 non-null float64\n",
      "Clean_content2                    38188 non-null object\n",
      "Clean_topics2                     38188 non-null object\n",
      "Clean_title2                      38188 non-null object\n",
      "num_verbs                         38188 non-null int64\n",
      "prop_verbs                        38188 non-null float64\n",
      "avg_sent_len                      38188 non-null float64\n",
      "avg_word_len                      38188 non-null float64\n",
      "avg_word_syl                      38188 non-null float64\n",
      "dtypes: float64(47), int64(2), object(11)\n",
      "memory usage: 17.5+ MB\n"
     ]
    }
   ],
   "source": [
    "content_with_source.info()"
   ]
  },
  {
   "cell_type": "code",
   "execution_count": 0,
   "metadata": {
    "colab": {
     "base_uri": "https://localhost:8080/",
     "height": 1000
    },
    "colab_type": "code",
    "id": "iagsIdc8bbRK",
    "outputId": "a73484b7-058e-4b73-f506-612f964cdd18",
    "scrolled": true
   },
   "outputs": [
    {
     "name": "stdout",
     "output_type": "stream",
     "text": [
      "<class 'pandas.core.frame.DataFrame'>\n",
      "RangeIndex: 38188 entries, 0 to 38187\n",
      "Data columns (total 60 columns):\n",
      "index                             38188 non-null int64\n",
      "title                             38188 non-null object\n",
      "datetime                          38188 non-null object\n",
      "website                           38188 non-null object\n",
      "check                             38188 non-null object\n",
      "Clean_topics                      38188 non-null object\n",
      "Clean_content                     38188 non-null object\n",
      "Clean_title                       38188 non-null object\n",
      "keywords                          38188 non-null float64\n",
      "url                               38188 non-null object\n",
      " shares                           38188 non-null float64\n",
      " n_tokens_title                   38188 non-null float64\n",
      " n_tokens_content                 38188 non-null float64\n",
      " n_non_stop_unique_tokens         38188 non-null float64\n",
      " num_self_hrefs                   38188 non-null float64\n",
      " num_imgs                         38188 non-null float64\n",
      " num_videos                       38188 non-null float64\n",
      " average_token_length             38188 non-null float64\n",
      " data_channel_is_lifestyle        38188 non-null float64\n",
      " data_channel_is_entertainment    38188 non-null float64\n",
      " data_channel_is_bus              38188 non-null float64\n",
      " data_channel_is_socmed           38188 non-null float64\n",
      " data_channel_is_tech             38188 non-null float64\n",
      " data_channel_is_world            38188 non-null float64\n",
      " is_weekend                       38188 non-null float64\n",
      " LDA_00                           38188 non-null float64\n",
      " LDA_01                           38188 non-null float64\n",
      " LDA_02                           38188 non-null float64\n",
      " LDA_03                           38188 non-null float64\n",
      " LDA_04                           38188 non-null float64\n",
      " global_subjectivity              38188 non-null float64\n",
      " global_sentiment_polarity        38188 non-null float64\n",
      " global_rate_positive_words       38188 non-null float64\n",
      " global_rate_negative_words       38188 non-null float64\n",
      " rate_positive_words              38188 non-null float64\n",
      " rate_negative_words              38188 non-null float64\n",
      " avg_positive_polarity            38188 non-null float64\n",
      " min_positive_polarity            38188 non-null float64\n",
      " max_positive_polarity            38188 non-null float64\n",
      " avg_negative_polarity            38188 non-null float64\n",
      " min_negative_polarity            38188 non-null float64\n",
      " max_negative_polarity            38188 non-null float64\n",
      " title_subjectivity               38188 non-null float64\n",
      " title_sentiment_polarity         38188 non-null float64\n",
      " abs_title_subjectivity           38188 non-null float64\n",
      " abs_title_sentiment_polarity     38188 non-null float64\n",
      "xhr                               38188 non-null float64\n",
      "yhr                               38188 non-null float64\n",
      "xday                              38188 non-null float64\n",
      "yday                              38188 non-null float64\n",
      "xwk                               38188 non-null float64\n",
      "ywk                               38188 non-null float64\n",
      "Clean_content2                    38188 non-null object\n",
      "Clean_topics2                     38188 non-null object\n",
      "Clean_title2                      38188 non-null object\n",
      "num_verbs                         38188 non-null float64\n",
      "prop_verbs                        38188 non-null float64\n",
      "avg_sent_len                      38188 non-null float64\n",
      "avg_word_len                      38188 non-null float64\n",
      "avg_word_syl                      38188 non-null float64\n",
      "dtypes: float64(48), int64(1), object(11)\n",
      "memory usage: 17.5+ MB\n"
     ]
    }
   ],
   "source": [
    "content_with_source.iloc[:,10:52] = content_with_source.iloc[:,10:52].astype(float)\n",
    "content_with_source.iloc[:,55:] = content_with_source.iloc[:,55:].astype(float)\n",
    "content_with_source.info()"
   ]
  },
  {
   "cell_type": "code",
   "execution_count": 0,
   "metadata": {
    "colab": {},
    "colab_type": "code",
    "id": "KmKRE0mrx8vO"
   },
   "outputs": [],
   "source": [
    "def freq_words(x, terms = 30): \n",
    "    all_words = ' '.join([text for text in x]) \n",
    "    all_words = all_words.split() \n",
    "    fdist = nltk.FreqDist(all_words) \n",
    "    words_df = pd.DataFrame({'word':list(fdist.keys()), 'count':list(fdist.values())}) \n",
    "  \n",
    "    # most frequent words \n",
    "    d = words_df.nlargest(columns=\"count\", n = terms) \n",
    "    \n",
    "    # visualize\n",
    "    ax = plt.subplots(figsize=(5, 10))\n",
    "    ax = sns.barplot(data=d, x= \"count\", y = \"word\") \n",
    "    ax.set(ylabel = 'Word') \n",
    "\n",
    "    plt.show()"
   ]
  },
  {
   "cell_type": "code",
   "execution_count": 0,
   "metadata": {
    "colab": {
     "base_uri": "https://localhost:8080/",
     "height": 606
    },
    "colab_type": "code",
    "id": "QCpXNo3sx8vQ",
    "outputId": "7a85e8c5-53c3-4596-8997-71880f7fcd13"
   },
   "outputs": [
    {
     "data": {
      "image/png": "[encoded data removed]",
      "text/plain": [
       "<Figure size 360x720 with 1 Axes>"
      ]
     },
     "metadata": {
      "needs_background": "light",
      "tags": []
     },
     "output_type": "display_data"
    }
   ],
   "source": [
    "freq_words(content_with_source['Clean_content'], 30)"
   ]
  },
  {
   "cell_type": "code",
   "execution_count": 0,
   "metadata": {
    "colab": {
     "base_uri": "https://localhost:8080/",
     "height": 606
    },
    "colab_type": "code",
    "id": "aYYUOT1ux8vS",
    "outputId": "36d652da-7260-4d07-e41a-958a6c421b68"
   },
   "outputs": [
    {
     "data": {
      "image/png": "[encoded data removed]",
      "text/plain": [
       "<Figure size 360x720 with 1 Axes>"
      ]
     },
     "metadata": {
      "needs_background": "light",
      "tags": []
     },
     "output_type": "display_data"
    }
   ],
   "source": [
    "freq_words(content_with_source['Clean_title'], 30)"
   ]
  },
  {
   "cell_type": "markdown",
   "metadata": {
    "colab_type": "text",
    "id": "N5gLxio6x8vU"
   },
   "source": [
    "## Split data"
   ]
  },
  {
   "cell_type": "code",
   "execution_count": 0,
   "metadata": {
    "colab": {},
    "colab_type": "code",
    "id": "r2iPTmn9x8vU",
    "scrolled": false
   },
   "outputs": [],
   "source": [
    "train_x, test_x, train_y, test_y = model_selection.train_test_split(content_with_source[['Clean_content',\n",
    "                                                                                         'Clean_title',\n",
    "                                                                                         'keywords',\n",
    "                                                                                         ' num_self_hrefs', #num links to other Mashable articles\n",
    "                                                                                         ' num_imgs', #num images\n",
    "                                                                                         ' num_videos', #num videos\n",
    "                                                                                         ' average_token_length', #avg length of words in content\n",
    "                                                                                         ' LDA_00', #closeness to topic0\n",
    "                                                                                         ' LDA_01', #closeness to topic1\n",
    "                                                                                         ' LDA_02', #closeness to topic2\n",
    "                                                                                         ' LDA_03', #closeness to topic3\n",
    "                                                                                         ' LDA_04', #closeness to topic4\n",
    "                                                                                         ' global_subjectivity', #text subjectivity\n",
    "                                                                                         ' global_sentiment_polarity', #text sentiment polarity\n",
    "                                                                                         ' global_rate_positive_words', #rate of positive words in content\n",
    "                                                                                         ' global_rate_negative_words', #rate of negative words in content\n",
    "                                                                                         ' rate_positive_words', #rate of positive words among non-neutral tokens\n",
    "                                                                                         ' rate_negative_words', #rate of negative words among non-neutral tokens\n",
    "                                                                                         ' avg_positive_polarity',\n",
    "                                                                                         ' min_positive_polarity',\n",
    "                                                                                         ' max_positive_polarity',\n",
    "                                                                                         ' avg_negative_polarity',\n",
    "                                                                                         ' min_negative_polarity',\n",
    "                                                                                         ' max_negative_polarity',\n",
    "                                                                                         ' title_subjectivity',\n",
    "                                                                                         ' title_sentiment_polarity',\n",
    "                                                                                         ' abs_title_subjectivity',\n",
    "                                                                                         ' abs_title_sentiment_polarity',\n",
    "                                                                                         'xhr',\n",
    "                                                                                         'yhr',\n",
    "                                                                                         'xday',\n",
    "                                                                                         'yday',\n",
    "                                                                                         'xwk',\n",
    "                                                                                         'ywk',\n",
    "                                                                                         'num_verbs',\n",
    "                                                                                         'prop_verbs',\n",
    "                                                                                         'avg_sent_len',\n",
    "                                                                                         'avg_word_len',\n",
    "                                                                                         'avg_word_syl'\n",
    "                                                                                       ]], \n",
    "                                                                    content_with_source[' shares'], \n",
    "                                                                    test_size = 0.2,\n",
    "                                                                    random_state = 0)"
   ]
  },
  {
   "cell_type": "markdown",
   "metadata": {
    "colab_type": "text",
    "id": "0-aFXKhZx8vW"
   },
   "source": [
    "## Build model"
   ]
  },
  {
   "cell_type": "code",
   "execution_count": 0,
   "metadata": {
    "colab": {},
    "colab_type": "code",
    "id": "DWJYoG2wx8vX",
    "scrolled": true
   },
   "outputs": [],
   "source": [
    "count_vect = CountVectorizer(analyzer='word', token_pattern=r'\\w{1,}', max_features = 5000)\n",
    "tfidf_vect = TfidfVectorizer(analyzer='word', token_pattern=r'\\w{1,}', max_features = 5000)"
   ]
  },
  {
   "cell_type": "code",
   "execution_count": 0,
   "metadata": {
    "colab": {},
    "colab_type": "code",
    "id": "ztXiSno1x8vY",
    "scrolled": true
   },
   "outputs": [],
   "source": [
    "def model(vectorizer, regressor, para, n_iter, train_x = train_x, train_y = train_y, test_x = test_x, test_y = test_y):\n",
    "\n",
    "    def get_content(data):\n",
    "        return data.Clean_content\n",
    "    \n",
    "    get_content_ft = preprocessing.FunctionTransformer(get_content, validate = False)\n",
    "    \n",
    "    def get_title(data):\n",
    "        return data.Clean_title\n",
    "    \n",
    "    get_title_ft = preprocessing.FunctionTransformer(get_title, validate = False)\n",
    "    \n",
    "    def source_features(data):\n",
    "        return data.iloc[:,9:51]\n",
    "\n",
    "    source_features_ft = preprocessing.FunctionTransformer(source_features, validate = False)\n",
    "    \n",
    "    def created_features(data):\n",
    "        return data.iloc[:,54:]\n",
    "\n",
    "    created_features_ft = preprocessing.FunctionTransformer(created_features, validate = False)\n",
    "    \n",
    "    union = make_union(make_pipeline(get_content_ft, vectorizer),\n",
    "                       make_pipeline(get_title_ft, vectorizer),\n",
    "                       source_features_ft,\n",
    "                       created_features_ft)\n",
    "    \n",
    "    pipe = make_pipeline(union, regressor)\n",
    "    \n",
    "    rand = model_selection.RandomizedSearchCV(estimator = pipe, \n",
    "                                              param_distributions = para, \n",
    "                                              n_iter = n_iter,\n",
    "                                              cv = 5, \n",
    "                                              scoring = 'neg_mean_absolute_error',\n",
    "                                              random_state = 0)\n",
    "    rand.fit(train_x, train_y)\n",
    "    print(rand.best_score_)\n",
    "    print(rand.best_params_)\n",
    "    \n",
    "    pred = rand.predict(test_x)\n",
    "    \n",
    "    return pred, metrics.mean_squared_error(test_y, pred) ** 0.5, metrics.mean_absolute_error(test_y, pred)"
   ]
  },
  {
   "cell_type": "code",
   "execution_count": 0,
   "metadata": {
    "colab": {},
    "colab_type": "code",
    "id": "XFAgh6P1x8va",
    "scrolled": true
   },
   "outputs": [],
   "source": [
    "model_scores = []"
   ]
  },
  {
   "cell_type": "markdown",
   "metadata": {
    "colab_type": "text",
    "id": "4Yc7wL4lx8vb"
   },
   "source": [
    "### LR"
   ]
  },
  {
   "cell_type": "code",
   "execution_count": 0,
   "metadata": {
    "colab": {},
    "colab_type": "code",
    "id": "snxw9BO7x8vc",
    "outputId": "de2147a2-3829-4246-e2d5-595835bb3b0d",
    "scrolled": true
   },
   "outputs": [
    {
     "name": "stdout",
     "output_type": "stream",
     "text": [
      "-8084.509856175125\n",
      "{}\n",
      "-7806.775200183727\n",
      "{}\n",
      "Wall time: 19min\n"
     ]
    }
   ],
   "source": [
    "%%time\n",
    "\n",
    "para_lr = {}\n",
    "\n",
    "pred_lr_count, rmse_lr_count, mae_lr_count = model(vectorizer = count_vect, \n",
    "                                                   regressor = linear_model.LinearRegression(), \n",
    "                                                   para = para_lr, \n",
    "                                                   n_iter = 1)\n",
    "\n",
    "model_scores.append({'Model': 'LR_Count', 'Score_rmse': rmse_lr_count, 'Score_mae': mae_lr_count})\n",
    "\n",
    "pred_lr_tfidf, rmse_lr_tfidf, mae_lr_tfidf = model(vectorizer = tfidf_vect, \n",
    "                                                   regressor = linear_model.LinearRegression(), \n",
    "                                                   para = para_lr, \n",
    "                                                   n_iter = 1)\n",
    "\n",
    "model_scores.append({'Model': 'LR_TFIDF', 'Score_rmse': rmse_lr_tfidf, 'Score_mae': mae_lr_tfidf})"
   ]
  },
  {
   "cell_type": "code",
   "execution_count": 0,
   "metadata": {
    "colab": {},
    "colab_type": "code",
    "id": "WNY5vxUXx8vd",
    "outputId": "414ac06f-5fb5-4e15-f593-e2ada2026f52",
    "scrolled": true
   },
   "outputs": [
    {
     "data": {
      "text/html": [
       "<div>\n",
       "<style scoped>\n",
       "    .dataframe tbody tr th:only-of-type {\n",
       "        vertical-align: middle;\n",
       "    }\n",
       "\n",
       "    .dataframe tbody tr th {\n",
       "        vertical-align: top;\n",
       "    }\n",
       "\n",
       "    .dataframe thead th {\n",
       "        text-align: right;\n",
       "    }\n",
       "</style>\n",
       "<table border=\"1\" class=\"dataframe\">\n",
       "  <thead>\n",
       "    <tr style=\"text-align: right;\">\n",
       "      <th></th>\n",
       "      <th>Model</th>\n",
       "      <th>Score_mae</th>\n",
       "      <th>Score_rmse</th>\n",
       "    </tr>\n",
       "  </thead>\n",
       "  <tbody>\n",
       "    <tr>\n",
       "      <th>0</th>\n",
       "      <td>LR_Count</td>\n",
       "      <td>6833.388988</td>\n",
       "      <td>13243.360096</td>\n",
       "    </tr>\n",
       "    <tr>\n",
       "      <th>1</th>\n",
       "      <td>LR_TFIDF</td>\n",
       "      <td>6730.356518</td>\n",
       "      <td>13028.044904</td>\n",
       "    </tr>\n",
       "  </tbody>\n",
       "</table>\n",
       "</div>"
      ],
      "text/plain": [
       "      Model    Score_mae    Score_rmse\n",
       "0  LR_Count  6833.388988  13243.360096\n",
       "1  LR_TFIDF  6730.356518  13028.044904"
      ]
     },
     "execution_count": 16,
     "metadata": {
      "tags": []
     },
     "output_type": "execute_result"
    }
   ],
   "source": [
    "pd.DataFrame(model_scores)"
   ]
  },
  {
   "cell_type": "markdown",
   "metadata": {
    "colab_type": "text",
    "id": "NGA5VBbqx8vf"
   },
   "source": [
    "### SGD"
   ]
  },
  {
   "cell_type": "code",
   "execution_count": 0,
   "metadata": {
    "colab": {},
    "colab_type": "code",
    "id": "tkILB0q0x8vf",
    "outputId": "8292ad8a-3df9-433b-c691-ecf858487aea",
    "scrolled": true
   },
   "outputs": [
    {
     "name": "stderr",
     "output_type": "stream",
     "text": [
      "C:\\Users\\PW\\Anaconda3\\lib\\site-packages\\sklearn\\linear_model\\_stochastic_gradient.py:1188: ConvergenceWarning: Maximum number of iteration reached before convergence. Consider increasing max_iter to improve the fit.\n",
      "  ConvergenceWarning)\n",
      "C:\\Users\\PW\\Anaconda3\\lib\\site-packages\\sklearn\\linear_model\\_stochastic_gradient.py:1188: ConvergenceWarning: Maximum number of iteration reached before convergence. Consider increasing max_iter to improve the fit.\n",
      "  ConvergenceWarning)\n",
      "C:\\Users\\PW\\Anaconda3\\lib\\site-packages\\sklearn\\linear_model\\_stochastic_gradient.py:1188: ConvergenceWarning: Maximum number of iteration reached before convergence. Consider increasing max_iter to improve the fit.\n",
      "  ConvergenceWarning)\n",
      "C:\\Users\\PW\\Anaconda3\\lib\\site-packages\\sklearn\\linear_model\\_stochastic_gradient.py:1188: ConvergenceWarning: Maximum number of iteration reached before convergence. Consider increasing max_iter to improve the fit.\n",
      "  ConvergenceWarning)\n",
      "C:\\Users\\PW\\Anaconda3\\lib\\site-packages\\sklearn\\linear_model\\_stochastic_gradient.py:1188: ConvergenceWarning: Maximum number of iteration reached before convergence. Consider increasing max_iter to improve the fit.\n",
      "  ConvergenceWarning)\n",
      "C:\\Users\\PW\\Anaconda3\\lib\\site-packages\\sklearn\\linear_model\\_stochastic_gradient.py:1188: ConvergenceWarning: Maximum number of iteration reached before convergence. Consider increasing max_iter to improve the fit.\n",
      "  ConvergenceWarning)\n",
      "C:\\Users\\PW\\Anaconda3\\lib\\site-packages\\sklearn\\linear_model\\_stochastic_gradient.py:1188: ConvergenceWarning: Maximum number of iteration reached before convergence. Consider increasing max_iter to improve the fit.\n",
      "  ConvergenceWarning)\n",
      "C:\\Users\\PW\\Anaconda3\\lib\\site-packages\\sklearn\\linear_model\\_stochastic_gradient.py:1188: ConvergenceWarning: Maximum number of iteration reached before convergence. Consider increasing max_iter to improve the fit.\n",
      "  ConvergenceWarning)\n",
      "C:\\Users\\PW\\Anaconda3\\lib\\site-packages\\sklearn\\linear_model\\_stochastic_gradient.py:1188: ConvergenceWarning: Maximum number of iteration reached before convergence. Consider increasing max_iter to improve the fit.\n",
      "  ConvergenceWarning)\n",
      "C:\\Users\\PW\\Anaconda3\\lib\\site-packages\\sklearn\\linear_model\\_stochastic_gradient.py:1188: ConvergenceWarning: Maximum number of iteration reached before convergence. Consider increasing max_iter to improve the fit.\n",
      "  ConvergenceWarning)\n",
      "C:\\Users\\PW\\Anaconda3\\lib\\site-packages\\sklearn\\linear_model\\_stochastic_gradient.py:1188: ConvergenceWarning: Maximum number of iteration reached before convergence. Consider increasing max_iter to improve the fit.\n",
      "  ConvergenceWarning)\n",
      "C:\\Users\\PW\\Anaconda3\\lib\\site-packages\\sklearn\\linear_model\\_stochastic_gradient.py:1188: ConvergenceWarning: Maximum number of iteration reached before convergence. Consider increasing max_iter to improve the fit.\n",
      "  ConvergenceWarning)\n",
      "C:\\Users\\PW\\Anaconda3\\lib\\site-packages\\sklearn\\linear_model\\_stochastic_gradient.py:1188: ConvergenceWarning: Maximum number of iteration reached before convergence. Consider increasing max_iter to improve the fit.\n",
      "  ConvergenceWarning)\n",
      "C:\\Users\\PW\\Anaconda3\\lib\\site-packages\\sklearn\\linear_model\\_stochastic_gradient.py:1188: ConvergenceWarning: Maximum number of iteration reached before convergence. Consider increasing max_iter to improve the fit.\n",
      "  ConvergenceWarning)\n",
      "C:\\Users\\PW\\Anaconda3\\lib\\site-packages\\sklearn\\linear_model\\_stochastic_gradient.py:1188: ConvergenceWarning: Maximum number of iteration reached before convergence. Consider increasing max_iter to improve the fit.\n",
      "  ConvergenceWarning)\n"
     ]
    },
    {
     "name": "stdout",
     "output_type": "stream",
     "text": [
      "-2471.311975810051\n",
      "{'sgdregressor__random_state': 0, 'sgdregressor__loss': 'epsilon_insensitive', 'sgdregressor__learning_rate': 'adaptive', 'sgdregressor__eta0': 0.01}\n"
     ]
    },
    {
     "name": "stderr",
     "output_type": "stream",
     "text": [
      "C:\\Users\\PW\\Anaconda3\\lib\\site-packages\\sklearn\\linear_model\\_stochastic_gradient.py:1188: ConvergenceWarning: Maximum number of iteration reached before convergence. Consider increasing max_iter to improve the fit.\n",
      "  ConvergenceWarning)\n",
      "C:\\Users\\PW\\Anaconda3\\lib\\site-packages\\sklearn\\linear_model\\_stochastic_gradient.py:1188: ConvergenceWarning: Maximum number of iteration reached before convergence. Consider increasing max_iter to improve the fit.\n",
      "  ConvergenceWarning)\n",
      "C:\\Users\\PW\\Anaconda3\\lib\\site-packages\\sklearn\\linear_model\\_stochastic_gradient.py:1188: ConvergenceWarning: Maximum number of iteration reached before convergence. Consider increasing max_iter to improve the fit.\n",
      "  ConvergenceWarning)\n",
      "C:\\Users\\PW\\Anaconda3\\lib\\site-packages\\sklearn\\linear_model\\_stochastic_gradient.py:1188: ConvergenceWarning: Maximum number of iteration reached before convergence. Consider increasing max_iter to improve the fit.\n",
      "  ConvergenceWarning)\n",
      "C:\\Users\\PW\\Anaconda3\\lib\\site-packages\\sklearn\\linear_model\\_stochastic_gradient.py:1188: ConvergenceWarning: Maximum number of iteration reached before convergence. Consider increasing max_iter to improve the fit.\n",
      "  ConvergenceWarning)\n"
     ]
    },
    {
     "name": "stdout",
     "output_type": "stream",
     "text": [
      "-2462.7494553582655\n",
      "{'sgdregressor__random_state': 0, 'sgdregressor__loss': 'epsilon_insensitive', 'sgdregressor__learning_rate': 'adaptive', 'sgdregressor__eta0': 0.01}\n",
      "Wall time: 3h 21min 10s\n"
     ]
    }
   ],
   "source": [
    "%%time\n",
    "\n",
    "para_sg = {'sgdregressor__random_state': [0],\n",
    "           'sgdregressor__loss': ['squared_loss', 'huber', 'epsilon_insensitive', 'squared_epsilon_insensitive'],\n",
    "           'sgdregressor__learning_rate': ['constant', 'invscaling', 'adaptive', 'optimal'],\n",
    "           'sgdregressor__eta0': [0.0001, 0.001, 0.01]\n",
    "          }\n",
    "\n",
    "pred_sg_count, rmse_sg_count, mae_sg_count = model(vectorizer = count_vect, \n",
    "                                                   regressor = linear_model.SGDRegressor(), \n",
    "                                                   para = para_sg, \n",
    "                                                   n_iter = 30)\n",
    "\n",
    "model_scores.append({'Model': 'SG_Count', 'Score_rmse': rmse_sg_count, 'Score_mae': mae_sg_count})\n",
    "\n",
    "pred_sg_tfidf, rmse_sg_tfidf, mae_sg_tfidf = model(vectorizer = tfidf_vect, \n",
    "                                                   regressor = linear_model.SGDRegressor(), \n",
    "                                                   para = para_sg, \n",
    "                                                   n_iter = 30)\n",
    "\n",
    "model_scores.append({'Model': 'SG_TFIDF', 'Score_rmse': rmse_sg_tfidf, 'Score_mae': mae_sg_tfidf})"
   ]
  },
  {
   "cell_type": "code",
   "execution_count": 0,
   "metadata": {
    "colab": {},
    "colab_type": "code",
    "id": "Vd_AIhr3x8vh",
    "outputId": "10cebcc1-2bfd-4eda-d583-13d30ab115c3",
    "scrolled": true
   },
   "outputs": [
    {
     "data": {
      "text/html": [
       "<div>\n",
       "<style scoped>\n",
       "    .dataframe tbody tr th:only-of-type {\n",
       "        vertical-align: middle;\n",
       "    }\n",
       "\n",
       "    .dataframe tbody tr th {\n",
       "        vertical-align: top;\n",
       "    }\n",
       "\n",
       "    .dataframe thead th {\n",
       "        text-align: right;\n",
       "    }\n",
       "</style>\n",
       "<table border=\"1\" class=\"dataframe\">\n",
       "  <thead>\n",
       "    <tr style=\"text-align: right;\">\n",
       "      <th></th>\n",
       "      <th>Model</th>\n",
       "      <th>Score_mae</th>\n",
       "      <th>Score_rmse</th>\n",
       "    </tr>\n",
       "  </thead>\n",
       "  <tbody>\n",
       "    <tr>\n",
       "      <th>0</th>\n",
       "      <td>LR_Count</td>\n",
       "      <td>6833.388988</td>\n",
       "      <td>13243.360096</td>\n",
       "    </tr>\n",
       "    <tr>\n",
       "      <th>1</th>\n",
       "      <td>LR_TFIDF</td>\n",
       "      <td>6730.356518</td>\n",
       "      <td>13028.044904</td>\n",
       "    </tr>\n",
       "    <tr>\n",
       "      <th>2</th>\n",
       "      <td>SG_Count</td>\n",
       "      <td>2277.045845</td>\n",
       "      <td>10518.914906</td>\n",
       "    </tr>\n",
       "    <tr>\n",
       "      <th>3</th>\n",
       "      <td>SG_TFIDF</td>\n",
       "      <td>2269.119618</td>\n",
       "      <td>10526.310680</td>\n",
       "    </tr>\n",
       "  </tbody>\n",
       "</table>\n",
       "</div>"
      ],
      "text/plain": [
       "      Model    Score_mae    Score_rmse\n",
       "0  LR_Count  6833.388988  13243.360096\n",
       "1  LR_TFIDF  6730.356518  13028.044904\n",
       "2  SG_Count  2277.045845  10518.914906\n",
       "3  SG_TFIDF  2269.119618  10526.310680"
      ]
     },
     "execution_count": 18,
     "metadata": {
      "tags": []
     },
     "output_type": "execute_result"
    }
   ],
   "source": [
    "pd.DataFrame(model_scores)"
   ]
  },
  {
   "cell_type": "markdown",
   "metadata": {
    "colab_type": "text",
    "id": "IGcpni0Gx8vi"
   },
   "source": [
    "### LGB"
   ]
  },
  {
   "cell_type": "code",
   "execution_count": 0,
   "metadata": {
    "colab": {},
    "colab_type": "code",
    "id": "pA6SGGgqx8vj",
    "outputId": "45a06c2d-50a1-4267-e68c-a53833eed193",
    "scrolled": false
   },
   "outputs": [
    {
     "name": "stdout",
     "output_type": "stream",
     "text": [
      "-3203.8183126514805\n",
      "{'lgbmregressor__subsample': 0.9, 'lgbmregressor__random_state': 0, 'lgbmregressor__num_leaves': 50, 'lgbmregressor__n_estimators': 1000, 'lgbmregressor__min_child_samples': 20, 'lgbmregressor__max_depth': -1, 'lgbmregressor__learning_rate': 0.001, 'lgbmregressor__colsample_bytree': 0.8}\n",
      "-3221.1997243761\n",
      "{'lgbmregressor__subsample': 0.9, 'lgbmregressor__random_state': 0, 'lgbmregressor__num_leaves': 50, 'lgbmregressor__n_estimators': 1000, 'lgbmregressor__min_child_samples': 20, 'lgbmregressor__max_depth': -1, 'lgbmregressor__learning_rate': 0.001, 'lgbmregressor__colsample_bytree': 0.8}\n",
      "Wall time: 13h 33min 13s\n"
     ]
    }
   ],
   "source": [
    "%%time\n",
    "\n",
    "para_lg = {'lgbmregressor__random_state': [0],\n",
    "           'lgbmregressor__num_leaves': [30, 50, 70],\n",
    "           'lgbmregressor__max_depth': [-1, 10, 20],\n",
    "           'lgbmregressor__learning_rate': [0.1, 0.01, 0.001],\n",
    "           'lgbmregressor__min_child_samples': [10, 20, 30],\n",
    "           'lgbmregressor__subsample': [0.9, 0.8],\n",
    "           'lgbmregressor__colsample_bytree': [0.9, 0.8],\n",
    "           'lgbmregressor__n_estimators': [500, 1000, 1500]\n",
    "          }\n",
    "\n",
    "pred_lg_count, rmse_lg_count, mae_lg_count = model(vectorizer = count_vect, \n",
    "                                                   regressor = lightgbm.LGBMRegressor(), \n",
    "                                                   para = para_lg, \n",
    "                                                   n_iter = 10)\n",
    "\n",
    "model_scores.append({'Model': 'LG_Count', 'Score_rmse': rmse_lg_count, 'Score_mae': mae_lg_count})\n",
    "\n",
    "pred_lg_tfidf, rmse_lg_tfidf, mae_lg_tfidf = model(vectorizer = tfidf_vect, \n",
    "                                                   regressor = lightgbm.LGBMRegressor(), \n",
    "                                                   para = para_lg, \n",
    "                                                   n_iter = 10)\n",
    "\n",
    "model_scores.append({'Model': 'LG_TFIDF', 'Score_rmse': rmse_lg_tfidf, 'Score_mae': mae_lg_tfidf})"
   ]
  },
  {
   "cell_type": "code",
   "execution_count": 0,
   "metadata": {
    "colab": {},
    "colab_type": "code",
    "id": "gyaGDEDXx8vl",
    "outputId": "82b9c0f5-8754-4a6a-f07e-3365d5ba29a3",
    "scrolled": true
   },
   "outputs": [
    {
     "data": {
      "text/html": [
       "<div>\n",
       "<style scoped>\n",
       "    .dataframe tbody tr th:only-of-type {\n",
       "        vertical-align: middle;\n",
       "    }\n",
       "\n",
       "    .dataframe tbody tr th {\n",
       "        vertical-align: top;\n",
       "    }\n",
       "\n",
       "    .dataframe thead th {\n",
       "        text-align: right;\n",
       "    }\n",
       "</style>\n",
       "<table border=\"1\" class=\"dataframe\">\n",
       "  <thead>\n",
       "    <tr style=\"text-align: right;\">\n",
       "      <th></th>\n",
       "      <th>Model</th>\n",
       "      <th>Score_mae</th>\n",
       "      <th>Score_rmse</th>\n",
       "    </tr>\n",
       "  </thead>\n",
       "  <tbody>\n",
       "    <tr>\n",
       "      <th>0</th>\n",
       "      <td>LR_Count</td>\n",
       "      <td>6833.388988</td>\n",
       "      <td>13243.360096</td>\n",
       "    </tr>\n",
       "    <tr>\n",
       "      <th>1</th>\n",
       "      <td>LR_TFIDF</td>\n",
       "      <td>6730.356518</td>\n",
       "      <td>13028.044904</td>\n",
       "    </tr>\n",
       "    <tr>\n",
       "      <th>2</th>\n",
       "      <td>SG_Count</td>\n",
       "      <td>2277.045845</td>\n",
       "      <td>10518.914906</td>\n",
       "    </tr>\n",
       "    <tr>\n",
       "      <th>3</th>\n",
       "      <td>SG_TFIDF</td>\n",
       "      <td>2269.119618</td>\n",
       "      <td>10526.310680</td>\n",
       "    </tr>\n",
       "    <tr>\n",
       "      <th>4</th>\n",
       "      <td>LG_Count</td>\n",
       "      <td>3050.565204</td>\n",
       "      <td>10401.496782</td>\n",
       "    </tr>\n",
       "    <tr>\n",
       "      <th>5</th>\n",
       "      <td>LG_TFIDF</td>\n",
       "      <td>3036.546127</td>\n",
       "      <td>10373.306543</td>\n",
       "    </tr>\n",
       "  </tbody>\n",
       "</table>\n",
       "</div>"
      ],
      "text/plain": [
       "      Model    Score_mae    Score_rmse\n",
       "0  LR_Count  6833.388988  13243.360096\n",
       "1  LR_TFIDF  6730.356518  13028.044904\n",
       "2  SG_Count  2277.045845  10518.914906\n",
       "3  SG_TFIDF  2269.119618  10526.310680\n",
       "4  LG_Count  3050.565204  10401.496782\n",
       "5  LG_TFIDF  3036.546127  10373.306543"
      ]
     },
     "execution_count": 20,
     "metadata": {
      "tags": []
     },
     "output_type": "execute_result"
    }
   ],
   "source": [
    "pd.DataFrame(model_scores)"
   ]
  },
  {
   "cell_type": "markdown",
   "metadata": {
    "colab_type": "text",
    "id": "XaohGHjbx8vm"
   },
   "source": [
    "### SVM"
   ]
  },
  {
   "cell_type": "code",
   "execution_count": 0,
   "metadata": {
    "colab": {},
    "colab_type": "code",
    "id": "zMcYIL-Mx8vn",
    "outputId": "1063d333-0ce6-4914-9b5a-411a5375fbc2",
    "scrolled": true
   },
   "outputs": [
    {
     "name": "stdout",
     "output_type": "stream",
     "text": [
      "-2529.566131317732\n",
      "{}\n",
      "-2529.8513710217326\n",
      "{}\n",
      "Wall time: 4h 48min 38s\n"
     ]
    }
   ],
   "source": [
    "%%time\n",
    "\n",
    "para_sv = {}\n",
    "\n",
    "pred_sv_count, rmse_sv_count, mae_sv_count = model(vectorizer = count_vect, \n",
    "                                                   regressor = svm.NuSVR(), \n",
    "                                                   para = para_sv, \n",
    "                                                   n_iter = 1)\n",
    "\n",
    "model_scores.append({'Model': 'SV_Count', 'Score_rmse': rmse_sv_count, 'Score_mae': mae_sv_count})\n",
    "\n",
    "pred_sv_tfidf, rmse_sv_tfidf, mae_sv_tfidf = model(vectorizer = tfidf_vect, \n",
    "                                                   regressor = svm.NuSVR(), \n",
    "                                                   para = para_sv, \n",
    "                                                   n_iter = 1)\n",
    "\n",
    "model_scores.append({'Model': 'SV_TFIDF', 'Score_rmse': rmse_sv_tfidf, 'Score_mae': mae_sv_tfidf})"
   ]
  },
  {
   "cell_type": "code",
   "execution_count": 0,
   "metadata": {
    "colab": {},
    "colab_type": "code",
    "id": "cRh_-Sqyx8vp",
    "outputId": "4a176c49-0296-44f7-a165-fbcaf7fd5100",
    "scrolled": true
   },
   "outputs": [
    {
     "data": {
      "text/html": [
       "<div>\n",
       "<style scoped>\n",
       "    .dataframe tbody tr th:only-of-type {\n",
       "        vertical-align: middle;\n",
       "    }\n",
       "\n",
       "    .dataframe tbody tr th {\n",
       "        vertical-align: top;\n",
       "    }\n",
       "\n",
       "    .dataframe thead th {\n",
       "        text-align: right;\n",
       "    }\n",
       "</style>\n",
       "<table border=\"1\" class=\"dataframe\">\n",
       "  <thead>\n",
       "    <tr style=\"text-align: right;\">\n",
       "      <th></th>\n",
       "      <th>Model</th>\n",
       "      <th>Score_mae</th>\n",
       "      <th>Score_rmse</th>\n",
       "    </tr>\n",
       "  </thead>\n",
       "  <tbody>\n",
       "    <tr>\n",
       "      <th>0</th>\n",
       "      <td>LR_Count</td>\n",
       "      <td>6833.388988</td>\n",
       "      <td>13243.360096</td>\n",
       "    </tr>\n",
       "    <tr>\n",
       "      <th>1</th>\n",
       "      <td>LR_TFIDF</td>\n",
       "      <td>6730.356518</td>\n",
       "      <td>13028.044904</td>\n",
       "    </tr>\n",
       "    <tr>\n",
       "      <th>2</th>\n",
       "      <td>SG_Count</td>\n",
       "      <td>2277.045845</td>\n",
       "      <td>10518.914906</td>\n",
       "    </tr>\n",
       "    <tr>\n",
       "      <th>3</th>\n",
       "      <td>SG_TFIDF</td>\n",
       "      <td>2269.119618</td>\n",
       "      <td>10526.310680</td>\n",
       "    </tr>\n",
       "    <tr>\n",
       "      <th>4</th>\n",
       "      <td>LG_Count</td>\n",
       "      <td>3050.565204</td>\n",
       "      <td>10401.496782</td>\n",
       "    </tr>\n",
       "    <tr>\n",
       "      <th>5</th>\n",
       "      <td>LG_TFIDF</td>\n",
       "      <td>3036.546127</td>\n",
       "      <td>10373.306543</td>\n",
       "    </tr>\n",
       "    <tr>\n",
       "      <th>6</th>\n",
       "      <td>SV_Count</td>\n",
       "      <td>2338.631621</td>\n",
       "      <td>10468.206060</td>\n",
       "    </tr>\n",
       "    <tr>\n",
       "      <th>7</th>\n",
       "      <td>SV_TFIDF</td>\n",
       "      <td>2338.958659</td>\n",
       "      <td>10468.058485</td>\n",
       "    </tr>\n",
       "  </tbody>\n",
       "</table>\n",
       "</div>"
      ],
      "text/plain": [
       "      Model    Score_mae    Score_rmse\n",
       "0  LR_Count  6833.388988  13243.360096\n",
       "1  LR_TFIDF  6730.356518  13028.044904\n",
       "2  SG_Count  2277.045845  10518.914906\n",
       "3  SG_TFIDF  2269.119618  10526.310680\n",
       "4  LG_Count  3050.565204  10401.496782\n",
       "5  LG_TFIDF  3036.546127  10373.306543\n",
       "6  SV_Count  2338.631621  10468.206060\n",
       "7  SV_TFIDF  2338.958659  10468.058485"
      ]
     },
     "execution_count": 26,
     "metadata": {
      "tags": []
     },
     "output_type": "execute_result"
    }
   ],
   "source": [
    "pd.DataFrame(model_scores)"
   ]
  },
  {
   "cell_type": "code",
   "execution_count": 0,
   "metadata": {
    "colab": {},
    "colab_type": "code",
    "id": "ly0GsfzFx8vr"
   },
   "outputs": [],
   "source": [
    "end = start = datetime.datetime.now()\n",
    "print(end - start)"
   ]
  },
  {
   "cell_type": "markdown",
   "metadata": {
    "colab_type": "text",
    "id": "iMDdWn6Px8vt"
   },
   "source": [
    "### Word Embedding + Neural Network"
   ]
  },
  {
   "cell_type": "code",
   "execution_count": 0,
   "metadata": {
    "colab": {},
    "colab_type": "code",
    "id": "QuHIJYi7x8vt"
   },
   "outputs": [],
   "source": [
    "all_data = pd.read_csv('content_with_source_final.csv')"
   ]
  },
  {
   "cell_type": "code",
   "execution_count": 0,
   "metadata": {
    "colab": {},
    "colab_type": "code",
    "id": "jVyavY0fx8vv",
    "outputId": "05fb0db4-d4c5-4231-98b0-610898e79ce4"
   },
   "outputs": [
    {
     "data": {
      "text/html": [
       "<div>\n",
       "<style scoped>\n",
       "    .dataframe tbody tr th:only-of-type {\n",
       "        vertical-align: middle;\n",
       "    }\n",
       "\n",
       "    .dataframe tbody tr th {\n",
       "        vertical-align: top;\n",
       "    }\n",
       "\n",
       "    .dataframe thead th {\n",
       "        text-align: right;\n",
       "    }\n",
       "</style>\n",
       "<table border=\"1\" class=\"dataframe\">\n",
       "  <thead>\n",
       "    <tr style=\"text-align: right;\">\n",
       "      <th></th>\n",
       "      <th>index</th>\n",
       "      <th>title</th>\n",
       "      <th>datetime</th>\n",
       "      <th>website</th>\n",
       "      <th>check</th>\n",
       "      <th>Clean_topics</th>\n",
       "      <th>Clean_content</th>\n",
       "      <th>Clean_title</th>\n",
       "      <th>keywords</th>\n",
       "      <th>url</th>\n",
       "      <th>...</th>\n",
       "      <th>xwk</th>\n",
       "      <th>ywk</th>\n",
       "      <th>Clean_content2</th>\n",
       "      <th>Clean_topics2</th>\n",
       "      <th>Clean_title2</th>\n",
       "      <th>num_verbs</th>\n",
       "      <th>prop_verbs</th>\n",
       "      <th>avg_sent_len</th>\n",
       "      <th>avg_word_len</th>\n",
       "      <th>avg_word_syl</th>\n",
       "    </tr>\n",
       "  </thead>\n",
       "  <tbody>\n",
       "    <tr>\n",
       "      <th>0</th>\n",
       "      <td>0</td>\n",
       "      <td>Ask a Dev: What's 'Tap and Pay' in Android Kit...</td>\n",
       "      <td>Mon, 18 Nov 2013 16:15:23 +0000</td>\n",
       "      <td>https://mashable.com/2013/11/18/ask-a-dev-andr...</td>\n",
       "      <td>Mon</td>\n",
       "      <td>['top', 'android', 'android', 'kitk', 'ap', 's...</td>\n",
       "      <td>['new', 'android', 'kitk', 'feat', 'cal', 'tap...</td>\n",
       "      <td>['ask', 'dev', 'what', 'tap', 'pay', 'android'...</td>\n",
       "      <td>193.750000</td>\n",
       "      <td>https://mashable.com/2013/11/18/ask-a-dev-andr...</td>\n",
       "      <td>...</td>\n",
       "      <td>-0.652822</td>\n",
       "      <td>0.757511</td>\n",
       "      <td>new android kitk feat cal tap pay let buy thin...</td>\n",
       "      <td>top android android kitk ap softw ask dev dev ...</td>\n",
       "      <td>ask dev what tap pay android kitk</td>\n",
       "      <td>51</td>\n",
       "      <td>0.149123</td>\n",
       "      <td>25.307692</td>\n",
       "      <td>4.648026</td>\n",
       "      <td>1.595395</td>\n",
       "    </tr>\n",
       "    <tr>\n",
       "      <th>1</th>\n",
       "      <td>1</td>\n",
       "      <td>Exoplanets Explain Why the 'Dark Side' of the ...</td>\n",
       "      <td>Mon, 16 Jun 2014 13:15:08 +0000</td>\n",
       "      <td>https://mashable.com/2014/06/16/farside-of-the...</td>\n",
       "      <td>Mon</td>\n",
       "      <td>['top', 'dark', 'sid', 'moon', 'moon', 'spac',...</td>\n",
       "      <td>['heat', 'rady', 'young', 'ear', 'could', 'hel...</td>\n",
       "      <td>['exoplanet', 'explain', 'dark', 'sid', 'moon'...</td>\n",
       "      <td>51.500000</td>\n",
       "      <td>https://mashable.com/2014/06/16/farside-of-the...</td>\n",
       "      <td>...</td>\n",
       "      <td>0.176890</td>\n",
       "      <td>-0.984231</td>\n",
       "      <td>heat rady young ear could help solv 50yearold ...</td>\n",
       "      <td>top dark sid moon moon spac world</td>\n",
       "      <td>exoplanet explain dark sid moon fac</td>\n",
       "      <td>123</td>\n",
       "      <td>0.132686</td>\n",
       "      <td>24.750000</td>\n",
       "      <td>4.897883</td>\n",
       "      <td>1.607721</td>\n",
       "    </tr>\n",
       "    <tr>\n",
       "      <th>2</th>\n",
       "      <td>2</td>\n",
       "      <td>This App Helps You Say Goodbye to Boring Convo...</td>\n",
       "      <td>Mon, 04 Aug 2014 03:57:36 +0000</td>\n",
       "      <td>https://mashable.com/2014/08/03/this-app-can-h...</td>\n",
       "      <td>Mon</td>\n",
       "      <td>['top', 'ap', 'softw', 'gadget', 'hardw', 'mob...</td>\n",
       "      <td>['playerdescriptionnullimagehttpsmondrianmasha...</td>\n",
       "      <td>['ap', 'help', 'say', 'goodby', 'bor', 'convo'...</td>\n",
       "      <td>27.000000</td>\n",
       "      <td>https://mashable.com/2014/08/03/this-app-can-h...</td>\n",
       "      <td>...</td>\n",
       "      <td>-0.606800</td>\n",
       "      <td>-0.794854</td>\n",
       "      <td>playerdescriptionnullimagehttpsmondrianmashabl...</td>\n",
       "      <td>top ap softw gadget hardw mobl soc tech</td>\n",
       "      <td>ap help say goodby bor convo push button</td>\n",
       "      <td>78</td>\n",
       "      <td>0.098113</td>\n",
       "      <td>30.800000</td>\n",
       "      <td>7.995110</td>\n",
       "      <td>2.151589</td>\n",
       "    </tr>\n",
       "    <tr>\n",
       "      <th>3</th>\n",
       "      <td>3</td>\n",
       "      <td>Filming of New 'Star Wars' Movie to Begin in May</td>\n",
       "      <td>Mon, 20 Jan 2014 13:33:51 +0000</td>\n",
       "      <td>https://mashable.com/2014/01/20/star-wars-may-...</td>\n",
       "      <td>Mon</td>\n",
       "      <td>['top', 'lucasfilm', 'star', 'war']</td>\n",
       "      <td>['direct', 'jj', 'abram', 'say', 'script', 'ne...</td>\n",
       "      <td>['film', 'new', 'star', 'war', 'movy', 'begin'...</td>\n",
       "      <td>249.333333</td>\n",
       "      <td>https://mashable.com/2014/01/20/star-wars-may-...</td>\n",
       "      <td>...</td>\n",
       "      <td>0.456629</td>\n",
       "      <td>0.889657</td>\n",
       "      <td>direct jj abram say script next star war movy ...</td>\n",
       "      <td>top lucasfilm star war</td>\n",
       "      <td>film new star war movy begin may</td>\n",
       "      <td>34</td>\n",
       "      <td>0.182796</td>\n",
       "      <td>22.250000</td>\n",
       "      <td>4.566879</td>\n",
       "      <td>1.464968</td>\n",
       "    </tr>\n",
       "    <tr>\n",
       "      <th>4</th>\n",
       "      <td>4</td>\n",
       "      <td>Come and Give Turntable.fm the Sendoff It Dese...</td>\n",
       "      <td>Mon, 02 Dec 2013 21:10:11 +0000</td>\n",
       "      <td>https://mashable.com/2013/12/02/turntable-shut...</td>\n",
       "      <td>Mon</td>\n",
       "      <td>['top', 'commun', 'mus', 'soc', 'med', 'turnta...</td>\n",
       "      <td>['monday', 'last', 'chant', 'ris', 'temp', 'st...</td>\n",
       "      <td>['com', 'giv', 'turntablefm', 'sendoff', 'dese...</td>\n",
       "      <td>74.000000</td>\n",
       "      <td>https://mashable.com/2013/12/02/turntable-shut...</td>\n",
       "      <td>...</td>\n",
       "      <td>-0.456629</td>\n",
       "      <td>0.889657</td>\n",
       "      <td>monday last chant ris temp stardom virt dj hel...</td>\n",
       "      <td>top commun mus soc med turntablefm</td>\n",
       "      <td>com giv turntablefm sendoff deserv</td>\n",
       "      <td>31</td>\n",
       "      <td>0.154229</td>\n",
       "      <td>24.125000</td>\n",
       "      <td>4.730337</td>\n",
       "      <td>1.556180</td>\n",
       "    </tr>\n",
       "  </tbody>\n",
       "</table>\n",
       "<p>5 rows × 60 columns</p>\n",
       "</div>"
      ],
      "text/plain": [
       "   index                                              title  \\\n",
       "0      0  Ask a Dev: What's 'Tap and Pay' in Android Kit...   \n",
       "1      1  Exoplanets Explain Why the 'Dark Side' of the ...   \n",
       "2      2  This App Helps You Say Goodbye to Boring Convo...   \n",
       "3      3   Filming of New 'Star Wars' Movie to Begin in May   \n",
       "4      4  Come and Give Turntable.fm the Sendoff It Dese...   \n",
       "\n",
       "                          datetime  \\\n",
       "0  Mon, 18 Nov 2013 16:15:23 +0000   \n",
       "1  Mon, 16 Jun 2014 13:15:08 +0000   \n",
       "2  Mon, 04 Aug 2014 03:57:36 +0000   \n",
       "3  Mon, 20 Jan 2014 13:33:51 +0000   \n",
       "4  Mon, 02 Dec 2013 21:10:11 +0000   \n",
       "\n",
       "                                             website check  \\\n",
       "0  https://mashable.com/2013/11/18/ask-a-dev-andr...   Mon   \n",
       "1  https://mashable.com/2014/06/16/farside-of-the...   Mon   \n",
       "2  https://mashable.com/2014/08/03/this-app-can-h...   Mon   \n",
       "3  https://mashable.com/2014/01/20/star-wars-may-...   Mon   \n",
       "4  https://mashable.com/2013/12/02/turntable-shut...   Mon   \n",
       "\n",
       "                                        Clean_topics  \\\n",
       "0  ['top', 'android', 'android', 'kitk', 'ap', 's...   \n",
       "1  ['top', 'dark', 'sid', 'moon', 'moon', 'spac',...   \n",
       "2  ['top', 'ap', 'softw', 'gadget', 'hardw', 'mob...   \n",
       "3                ['top', 'lucasfilm', 'star', 'war']   \n",
       "4  ['top', 'commun', 'mus', 'soc', 'med', 'turnta...   \n",
       "\n",
       "                                       Clean_content  \\\n",
       "0  ['new', 'android', 'kitk', 'feat', 'cal', 'tap...   \n",
       "1  ['heat', 'rady', 'young', 'ear', 'could', 'hel...   \n",
       "2  ['playerdescriptionnullimagehttpsmondrianmasha...   \n",
       "3  ['direct', 'jj', 'abram', 'say', 'script', 'ne...   \n",
       "4  ['monday', 'last', 'chant', 'ris', 'temp', 'st...   \n",
       "\n",
       "                                         Clean_title    keywords  \\\n",
       "0  ['ask', 'dev', 'what', 'tap', 'pay', 'android'...  193.750000   \n",
       "1  ['exoplanet', 'explain', 'dark', 'sid', 'moon'...   51.500000   \n",
       "2  ['ap', 'help', 'say', 'goodby', 'bor', 'convo'...   27.000000   \n",
       "3  ['film', 'new', 'star', 'war', 'movy', 'begin'...  249.333333   \n",
       "4  ['com', 'giv', 'turntablefm', 'sendoff', 'dese...   74.000000   \n",
       "\n",
       "                                                 url  ...       xwk       ywk  \\\n",
       "0  https://mashable.com/2013/11/18/ask-a-dev-andr...  ... -0.652822  0.757511   \n",
       "1  https://mashable.com/2014/06/16/farside-of-the...  ...  0.176890 -0.984231   \n",
       "2  https://mashable.com/2014/08/03/this-app-can-h...  ... -0.606800 -0.794854   \n",
       "3  https://mashable.com/2014/01/20/star-wars-may-...  ...  0.456629  0.889657   \n",
       "4  https://mashable.com/2013/12/02/turntable-shut...  ... -0.456629  0.889657   \n",
       "\n",
       "                                      Clean_content2  \\\n",
       "0  new android kitk feat cal tap pay let buy thin...   \n",
       "1  heat rady young ear could help solv 50yearold ...   \n",
       "2  playerdescriptionnullimagehttpsmondrianmashabl...   \n",
       "3  direct jj abram say script next star war movy ...   \n",
       "4  monday last chant ris temp stardom virt dj hel...   \n",
       "\n",
       "                                       Clean_topics2  \\\n",
       "0  top android android kitk ap softw ask dev dev ...   \n",
       "1                  top dark sid moon moon spac world   \n",
       "2            top ap softw gadget hardw mobl soc tech   \n",
       "3                             top lucasfilm star war   \n",
       "4                 top commun mus soc med turntablefm   \n",
       "\n",
       "                               Clean_title2  num_verbs  prop_verbs  \\\n",
       "0         ask dev what tap pay android kitk         51    0.149123   \n",
       "1       exoplanet explain dark sid moon fac        123    0.132686   \n",
       "2  ap help say goodby bor convo push button         78    0.098113   \n",
       "3          film new star war movy begin may         34    0.182796   \n",
       "4        com giv turntablefm sendoff deserv         31    0.154229   \n",
       "\n",
       "   avg_sent_len  avg_word_len  avg_word_syl  \n",
       "0     25.307692      4.648026      1.595395  \n",
       "1     24.750000      4.897883      1.607721  \n",
       "2     30.800000      7.995110      2.151589  \n",
       "3     22.250000      4.566879      1.464968  \n",
       "4     24.125000      4.730337      1.556180  \n",
       "\n",
       "[5 rows x 60 columns]"
      ]
     },
     "execution_count": 30,
     "metadata": {
      "tags": []
     },
     "output_type": "execute_result"
    }
   ],
   "source": [
    "all_data.head()"
   ]
  },
  {
   "cell_type": "code",
   "execution_count": 0,
   "metadata": {
    "colab": {},
    "colab_type": "code",
    "id": "xOj5X6SZx8vx"
   },
   "outputs": [],
   "source": [
    "all_data=all_data.drop('index', axis=1)"
   ]
  },
  {
   "cell_type": "code",
   "execution_count": 0,
   "metadata": {
    "colab": {},
    "colab_type": "code",
    "id": "XaE0jUBbx8vz",
    "outputId": "b3d7a5cf-f0de-4710-c4cf-904ff2a28147"
   },
   "outputs": [
    {
     "data": {
      "text/html": [
       "<div>\n",
       "<style scoped>\n",
       "    .dataframe tbody tr th:only-of-type {\n",
       "        vertical-align: middle;\n",
       "    }\n",
       "\n",
       "    .dataframe tbody tr th {\n",
       "        vertical-align: top;\n",
       "    }\n",
       "\n",
       "    .dataframe thead th {\n",
       "        text-align: right;\n",
       "    }\n",
       "</style>\n",
       "<table border=\"1\" class=\"dataframe\">\n",
       "  <thead>\n",
       "    <tr style=\"text-align: right;\">\n",
       "      <th></th>\n",
       "      <th>title</th>\n",
       "      <th>datetime</th>\n",
       "      <th>website</th>\n",
       "      <th>check</th>\n",
       "      <th>Clean_topics</th>\n",
       "      <th>Clean_content</th>\n",
       "      <th>Clean_title</th>\n",
       "      <th>keywords</th>\n",
       "      <th>url</th>\n",
       "      <th>shares</th>\n",
       "      <th>...</th>\n",
       "      <th>xwk</th>\n",
       "      <th>ywk</th>\n",
       "      <th>Clean_content2</th>\n",
       "      <th>Clean_topics2</th>\n",
       "      <th>Clean_title2</th>\n",
       "      <th>num_verbs</th>\n",
       "      <th>prop_verbs</th>\n",
       "      <th>avg_sent_len</th>\n",
       "      <th>avg_word_len</th>\n",
       "      <th>avg_word_syl</th>\n",
       "    </tr>\n",
       "  </thead>\n",
       "  <tbody>\n",
       "    <tr>\n",
       "      <th>0</th>\n",
       "      <td>Ask a Dev: What's 'Tap and Pay' in Android Kit...</td>\n",
       "      <td>Mon, 18 Nov 2013 16:15:23 +0000</td>\n",
       "      <td>https://mashable.com/2013/11/18/ask-a-dev-andr...</td>\n",
       "      <td>Mon</td>\n",
       "      <td>['top', 'android', 'android', 'kitk', 'ap', 's...</td>\n",
       "      <td>['new', 'android', 'kitk', 'feat', 'cal', 'tap...</td>\n",
       "      <td>['ask', 'dev', 'what', 'tap', 'pay', 'android'...</td>\n",
       "      <td>193.750000</td>\n",
       "      <td>https://mashable.com/2013/11/18/ask-a-dev-andr...</td>\n",
       "      <td>2600.0</td>\n",
       "      <td>...</td>\n",
       "      <td>-0.652822</td>\n",
       "      <td>0.757511</td>\n",
       "      <td>new android kitk feat cal tap pay let buy thin...</td>\n",
       "      <td>top android android kitk ap softw ask dev dev ...</td>\n",
       "      <td>ask dev what tap pay android kitk</td>\n",
       "      <td>51</td>\n",
       "      <td>0.149123</td>\n",
       "      <td>25.307692</td>\n",
       "      <td>4.648026</td>\n",
       "      <td>1.595395</td>\n",
       "    </tr>\n",
       "    <tr>\n",
       "      <th>1</th>\n",
       "      <td>Exoplanets Explain Why the 'Dark Side' of the ...</td>\n",
       "      <td>Mon, 16 Jun 2014 13:15:08 +0000</td>\n",
       "      <td>https://mashable.com/2014/06/16/farside-of-the...</td>\n",
       "      <td>Mon</td>\n",
       "      <td>['top', 'dark', 'sid', 'moon', 'moon', 'spac',...</td>\n",
       "      <td>['heat', 'rady', 'young', 'ear', 'could', 'hel...</td>\n",
       "      <td>['exoplanet', 'explain', 'dark', 'sid', 'moon'...</td>\n",
       "      <td>51.500000</td>\n",
       "      <td>https://mashable.com/2014/06/16/farside-of-the...</td>\n",
       "      <td>1500.0</td>\n",
       "      <td>...</td>\n",
       "      <td>0.176890</td>\n",
       "      <td>-0.984231</td>\n",
       "      <td>heat rady young ear could help solv 50yearold ...</td>\n",
       "      <td>top dark sid moon moon spac world</td>\n",
       "      <td>exoplanet explain dark sid moon fac</td>\n",
       "      <td>123</td>\n",
       "      <td>0.132686</td>\n",
       "      <td>24.750000</td>\n",
       "      <td>4.897883</td>\n",
       "      <td>1.607721</td>\n",
       "    </tr>\n",
       "    <tr>\n",
       "      <th>2</th>\n",
       "      <td>This App Helps You Say Goodbye to Boring Convo...</td>\n",
       "      <td>Mon, 04 Aug 2014 03:57:36 +0000</td>\n",
       "      <td>https://mashable.com/2014/08/03/this-app-can-h...</td>\n",
       "      <td>Mon</td>\n",
       "      <td>['top', 'ap', 'softw', 'gadget', 'hardw', 'mob...</td>\n",
       "      <td>['playerdescriptionnullimagehttpsmondrianmasha...</td>\n",
       "      <td>['ap', 'help', 'say', 'goodby', 'bor', 'convo'...</td>\n",
       "      <td>27.000000</td>\n",
       "      <td>https://mashable.com/2014/08/03/this-app-can-h...</td>\n",
       "      <td>997.0</td>\n",
       "      <td>...</td>\n",
       "      <td>-0.606800</td>\n",
       "      <td>-0.794854</td>\n",
       "      <td>playerdescriptionnullimagehttpsmondrianmashabl...</td>\n",
       "      <td>top ap softw gadget hardw mobl soc tech</td>\n",
       "      <td>ap help say goodby bor convo push button</td>\n",
       "      <td>78</td>\n",
       "      <td>0.098113</td>\n",
       "      <td>30.800000</td>\n",
       "      <td>7.995110</td>\n",
       "      <td>2.151589</td>\n",
       "    </tr>\n",
       "    <tr>\n",
       "      <th>3</th>\n",
       "      <td>Filming of New 'Star Wars' Movie to Begin in May</td>\n",
       "      <td>Mon, 20 Jan 2014 13:33:51 +0000</td>\n",
       "      <td>https://mashable.com/2014/01/20/star-wars-may-...</td>\n",
       "      <td>Mon</td>\n",
       "      <td>['top', 'lucasfilm', 'star', 'war']</td>\n",
       "      <td>['direct', 'jj', 'abram', 'say', 'script', 'ne...</td>\n",
       "      <td>['film', 'new', 'star', 'war', 'movy', 'begin'...</td>\n",
       "      <td>249.333333</td>\n",
       "      <td>https://mashable.com/2014/01/20/star-wars-may-...</td>\n",
       "      <td>21700.0</td>\n",
       "      <td>...</td>\n",
       "      <td>0.456629</td>\n",
       "      <td>0.889657</td>\n",
       "      <td>direct jj abram say script next star war movy ...</td>\n",
       "      <td>top lucasfilm star war</td>\n",
       "      <td>film new star war movy begin may</td>\n",
       "      <td>34</td>\n",
       "      <td>0.182796</td>\n",
       "      <td>22.250000</td>\n",
       "      <td>4.566879</td>\n",
       "      <td>1.464968</td>\n",
       "    </tr>\n",
       "    <tr>\n",
       "      <th>4</th>\n",
       "      <td>Come and Give Turntable.fm the Sendoff It Dese...</td>\n",
       "      <td>Mon, 02 Dec 2013 21:10:11 +0000</td>\n",
       "      <td>https://mashable.com/2013/12/02/turntable-shut...</td>\n",
       "      <td>Mon</td>\n",
       "      <td>['top', 'commun', 'mus', 'soc', 'med', 'turnta...</td>\n",
       "      <td>['monday', 'last', 'chant', 'ris', 'temp', 'st...</td>\n",
       "      <td>['com', 'giv', 'turntablefm', 'sendoff', 'dese...</td>\n",
       "      <td>74.000000</td>\n",
       "      <td>https://mashable.com/2013/12/02/turntable-shut...</td>\n",
       "      <td>909.0</td>\n",
       "      <td>...</td>\n",
       "      <td>-0.456629</td>\n",
       "      <td>0.889657</td>\n",
       "      <td>monday last chant ris temp stardom virt dj hel...</td>\n",
       "      <td>top commun mus soc med turntablefm</td>\n",
       "      <td>com giv turntablefm sendoff deserv</td>\n",
       "      <td>31</td>\n",
       "      <td>0.154229</td>\n",
       "      <td>24.125000</td>\n",
       "      <td>4.730337</td>\n",
       "      <td>1.556180</td>\n",
       "    </tr>\n",
       "  </tbody>\n",
       "</table>\n",
       "<p>5 rows × 59 columns</p>\n",
       "</div>"
      ],
      "text/plain": [
       "                                               title  \\\n",
       "0  Ask a Dev: What's 'Tap and Pay' in Android Kit...   \n",
       "1  Exoplanets Explain Why the 'Dark Side' of the ...   \n",
       "2  This App Helps You Say Goodbye to Boring Convo...   \n",
       "3   Filming of New 'Star Wars' Movie to Begin in May   \n",
       "4  Come and Give Turntable.fm the Sendoff It Dese...   \n",
       "\n",
       "                          datetime  \\\n",
       "0  Mon, 18 Nov 2013 16:15:23 +0000   \n",
       "1  Mon, 16 Jun 2014 13:15:08 +0000   \n",
       "2  Mon, 04 Aug 2014 03:57:36 +0000   \n",
       "3  Mon, 20 Jan 2014 13:33:51 +0000   \n",
       "4  Mon, 02 Dec 2013 21:10:11 +0000   \n",
       "\n",
       "                                             website check  \\\n",
       "0  https://mashable.com/2013/11/18/ask-a-dev-andr...   Mon   \n",
       "1  https://mashable.com/2014/06/16/farside-of-the...   Mon   \n",
       "2  https://mashable.com/2014/08/03/this-app-can-h...   Mon   \n",
       "3  https://mashable.com/2014/01/20/star-wars-may-...   Mon   \n",
       "4  https://mashable.com/2013/12/02/turntable-shut...   Mon   \n",
       "\n",
       "                                        Clean_topics  \\\n",
       "0  ['top', 'android', 'android', 'kitk', 'ap', 's...   \n",
       "1  ['top', 'dark', 'sid', 'moon', 'moon', 'spac',...   \n",
       "2  ['top', 'ap', 'softw', 'gadget', 'hardw', 'mob...   \n",
       "3                ['top', 'lucasfilm', 'star', 'war']   \n",
       "4  ['top', 'commun', 'mus', 'soc', 'med', 'turnta...   \n",
       "\n",
       "                                       Clean_content  \\\n",
       "0  ['new', 'android', 'kitk', 'feat', 'cal', 'tap...   \n",
       "1  ['heat', 'rady', 'young', 'ear', 'could', 'hel...   \n",
       "2  ['playerdescriptionnullimagehttpsmondrianmasha...   \n",
       "3  ['direct', 'jj', 'abram', 'say', 'script', 'ne...   \n",
       "4  ['monday', 'last', 'chant', 'ris', 'temp', 'st...   \n",
       "\n",
       "                                         Clean_title    keywords  \\\n",
       "0  ['ask', 'dev', 'what', 'tap', 'pay', 'android'...  193.750000   \n",
       "1  ['exoplanet', 'explain', 'dark', 'sid', 'moon'...   51.500000   \n",
       "2  ['ap', 'help', 'say', 'goodby', 'bor', 'convo'...   27.000000   \n",
       "3  ['film', 'new', 'star', 'war', 'movy', 'begin'...  249.333333   \n",
       "4  ['com', 'giv', 'turntablefm', 'sendoff', 'dese...   74.000000   \n",
       "\n",
       "                                                 url   shares  ...       xwk  \\\n",
       "0  https://mashable.com/2013/11/18/ask-a-dev-andr...   2600.0  ... -0.652822   \n",
       "1  https://mashable.com/2014/06/16/farside-of-the...   1500.0  ...  0.176890   \n",
       "2  https://mashable.com/2014/08/03/this-app-can-h...    997.0  ... -0.606800   \n",
       "3  https://mashable.com/2014/01/20/star-wars-may-...  21700.0  ...  0.456629   \n",
       "4  https://mashable.com/2013/12/02/turntable-shut...    909.0  ... -0.456629   \n",
       "\n",
       "        ywk                                     Clean_content2  \\\n",
       "0  0.757511  new android kitk feat cal tap pay let buy thin...   \n",
       "1 -0.984231  heat rady young ear could help solv 50yearold ...   \n",
       "2 -0.794854  playerdescriptionnullimagehttpsmondrianmashabl...   \n",
       "3  0.889657  direct jj abram say script next star war movy ...   \n",
       "4  0.889657  monday last chant ris temp stardom virt dj hel...   \n",
       "\n",
       "                                       Clean_topics2  \\\n",
       "0  top android android kitk ap softw ask dev dev ...   \n",
       "1                  top dark sid moon moon spac world   \n",
       "2            top ap softw gadget hardw mobl soc tech   \n",
       "3                             top lucasfilm star war   \n",
       "4                 top commun mus soc med turntablefm   \n",
       "\n",
       "                               Clean_title2  num_verbs  prop_verbs  \\\n",
       "0         ask dev what tap pay android kitk         51    0.149123   \n",
       "1       exoplanet explain dark sid moon fac        123    0.132686   \n",
       "2  ap help say goodby bor convo push button         78    0.098113   \n",
       "3          film new star war movy begin may         34    0.182796   \n",
       "4        com giv turntablefm sendoff deserv         31    0.154229   \n",
       "\n",
       "   avg_sent_len  avg_word_len  avg_word_syl  \n",
       "0     25.307692      4.648026      1.595395  \n",
       "1     24.750000      4.897883      1.607721  \n",
       "2     30.800000      7.995110      2.151589  \n",
       "3     22.250000      4.566879      1.464968  \n",
       "4     24.125000      4.730337      1.556180  \n",
       "\n",
       "[5 rows x 59 columns]"
      ]
     },
     "execution_count": 32,
     "metadata": {
      "tags": []
     },
     "output_type": "execute_result"
    }
   ],
   "source": [
    "all_data.head()"
   ]
  },
  {
   "cell_type": "code",
   "execution_count": 0,
   "metadata": {
    "colab": {},
    "colab_type": "code",
    "id": "cXY-3dOrx8v3"
   },
   "outputs": [],
   "source": [
    "new_content = all_data.dropna()\n",
    "new_content=new_content.reset_index(drop=True)"
   ]
  },
  {
   "cell_type": "code",
   "execution_count": 0,
   "metadata": {
    "colab": {},
    "colab_type": "code",
    "id": "GkKVPvUyx8v4"
   },
   "outputs": [],
   "source": [
    "new_content['Clean_content_title'] = new_content['Clean_content2']+ ' ' + new_content['Clean_title2']"
   ]
  },
  {
   "cell_type": "code",
   "execution_count": 0,
   "metadata": {
    "colab": {},
    "colab_type": "code",
    "id": "WAk56MDNx8v6",
    "outputId": "4dc24c90-b2c1-4d87-86d7-e31044b100df"
   },
   "outputs": [
    {
     "data": {
      "text/plain": [
       "38188"
      ]
     },
     "execution_count": 35,
     "metadata": {
      "tags": []
     },
     "output_type": "execute_result"
    }
   ],
   "source": [
    "len(all_data)"
   ]
  },
  {
   "cell_type": "code",
   "execution_count": 0,
   "metadata": {
    "colab": {
     "base_uri": "https://localhost:8080/",
     "height": 35
    },
    "colab_type": "code",
    "id": "ssoXteS1x8v8",
    "outputId": "0fcf1e69-cafc-47a3-8be7-ef87f857c155"
   },
   "outputs": [
    {
     "data": {
      "text/plain": [
       "38188"
      ]
     },
     "execution_count": 36,
     "metadata": {
      "tags": []
     },
     "output_type": "execute_result"
    }
   ],
   "source": [
    "len(new_content)"
   ]
  },
  {
   "cell_type": "code",
   "execution_count": 0,
   "metadata": {
    "colab": {},
    "colab_type": "code",
    "id": "iFzVKLJvx8v9"
   },
   "outputs": [],
   "source": [
    "labels=new_content[' shares']"
   ]
  },
  {
   "cell_type": "code",
   "execution_count": 0,
   "metadata": {
    "colab": {},
    "colab_type": "code",
    "id": "B9DhwCpnx8v_",
    "outputId": "8115fb54-442e-4253-81f0-d842aafd1202"
   },
   "outputs": [
    {
     "data": {
      "text/html": [
       "<div>\n",
       "<style scoped>\n",
       "    .dataframe tbody tr th:only-of-type {\n",
       "        vertical-align: middle;\n",
       "    }\n",
       "\n",
       "    .dataframe tbody tr th {\n",
       "        vertical-align: top;\n",
       "    }\n",
       "\n",
       "    .dataframe thead th {\n",
       "        text-align: right;\n",
       "    }\n",
       "</style>\n",
       "<table border=\"1\" class=\"dataframe\">\n",
       "  <thead>\n",
       "    <tr style=\"text-align: right;\">\n",
       "      <th></th>\n",
       "      <th>title</th>\n",
       "      <th>datetime</th>\n",
       "      <th>website</th>\n",
       "      <th>check</th>\n",
       "      <th>Clean_topics</th>\n",
       "      <th>Clean_content</th>\n",
       "      <th>Clean_title</th>\n",
       "      <th>keywords</th>\n",
       "      <th>url</th>\n",
       "      <th>shares</th>\n",
       "      <th>...</th>\n",
       "      <th>ywk</th>\n",
       "      <th>Clean_content2</th>\n",
       "      <th>Clean_topics2</th>\n",
       "      <th>Clean_title2</th>\n",
       "      <th>num_verbs</th>\n",
       "      <th>prop_verbs</th>\n",
       "      <th>avg_sent_len</th>\n",
       "      <th>avg_word_len</th>\n",
       "      <th>avg_word_syl</th>\n",
       "      <th>Clean_content_title</th>\n",
       "    </tr>\n",
       "  </thead>\n",
       "  <tbody>\n",
       "    <tr>\n",
       "      <th>0</th>\n",
       "      <td>Ask a Dev: What's 'Tap and Pay' in Android Kit...</td>\n",
       "      <td>Mon, 18 Nov 2013 16:15:23 +0000</td>\n",
       "      <td>https://mashable.com/2013/11/18/ask-a-dev-andr...</td>\n",
       "      <td>Mon</td>\n",
       "      <td>['top', 'android', 'android', 'kitk', 'ap', 's...</td>\n",
       "      <td>['new', 'android', 'kitk', 'feat', 'cal', 'tap...</td>\n",
       "      <td>['ask', 'dev', 'what', 'tap', 'pay', 'android'...</td>\n",
       "      <td>193.750000</td>\n",
       "      <td>https://mashable.com/2013/11/18/ask-a-dev-andr...</td>\n",
       "      <td>2600.0</td>\n",
       "      <td>...</td>\n",
       "      <td>0.757511</td>\n",
       "      <td>new android kitk feat cal tap pay let buy thin...</td>\n",
       "      <td>top android android kitk ap softw ask dev dev ...</td>\n",
       "      <td>ask dev what tap pay android kitk</td>\n",
       "      <td>51</td>\n",
       "      <td>0.149123</td>\n",
       "      <td>25.307692</td>\n",
       "      <td>4.648026</td>\n",
       "      <td>1.595395</td>\n",
       "      <td>new android kitk feat cal tap pay let buy thin...</td>\n",
       "    </tr>\n",
       "    <tr>\n",
       "      <th>1</th>\n",
       "      <td>Exoplanets Explain Why the 'Dark Side' of the ...</td>\n",
       "      <td>Mon, 16 Jun 2014 13:15:08 +0000</td>\n",
       "      <td>https://mashable.com/2014/06/16/farside-of-the...</td>\n",
       "      <td>Mon</td>\n",
       "      <td>['top', 'dark', 'sid', 'moon', 'moon', 'spac',...</td>\n",
       "      <td>['heat', 'rady', 'young', 'ear', 'could', 'hel...</td>\n",
       "      <td>['exoplanet', 'explain', 'dark', 'sid', 'moon'...</td>\n",
       "      <td>51.500000</td>\n",
       "      <td>https://mashable.com/2014/06/16/farside-of-the...</td>\n",
       "      <td>1500.0</td>\n",
       "      <td>...</td>\n",
       "      <td>-0.984231</td>\n",
       "      <td>heat rady young ear could help solv 50yearold ...</td>\n",
       "      <td>top dark sid moon moon spac world</td>\n",
       "      <td>exoplanet explain dark sid moon fac</td>\n",
       "      <td>123</td>\n",
       "      <td>0.132686</td>\n",
       "      <td>24.750000</td>\n",
       "      <td>4.897883</td>\n",
       "      <td>1.607721</td>\n",
       "      <td>heat rady young ear could help solv 50yearold ...</td>\n",
       "    </tr>\n",
       "    <tr>\n",
       "      <th>2</th>\n",
       "      <td>This App Helps You Say Goodbye to Boring Convo...</td>\n",
       "      <td>Mon, 04 Aug 2014 03:57:36 +0000</td>\n",
       "      <td>https://mashable.com/2014/08/03/this-app-can-h...</td>\n",
       "      <td>Mon</td>\n",
       "      <td>['top', 'ap', 'softw', 'gadget', 'hardw', 'mob...</td>\n",
       "      <td>['playerdescriptionnullimagehttpsmondrianmasha...</td>\n",
       "      <td>['ap', 'help', 'say', 'goodby', 'bor', 'convo'...</td>\n",
       "      <td>27.000000</td>\n",
       "      <td>https://mashable.com/2014/08/03/this-app-can-h...</td>\n",
       "      <td>997.0</td>\n",
       "      <td>...</td>\n",
       "      <td>-0.794854</td>\n",
       "      <td>playerdescriptionnullimagehttpsmondrianmashabl...</td>\n",
       "      <td>top ap softw gadget hardw mobl soc tech</td>\n",
       "      <td>ap help say goodby bor convo push button</td>\n",
       "      <td>78</td>\n",
       "      <td>0.098113</td>\n",
       "      <td>30.800000</td>\n",
       "      <td>7.995110</td>\n",
       "      <td>2.151589</td>\n",
       "      <td>playerdescriptionnullimagehttpsmondrianmashabl...</td>\n",
       "    </tr>\n",
       "    <tr>\n",
       "      <th>3</th>\n",
       "      <td>Filming of New 'Star Wars' Movie to Begin in May</td>\n",
       "      <td>Mon, 20 Jan 2014 13:33:51 +0000</td>\n",
       "      <td>https://mashable.com/2014/01/20/star-wars-may-...</td>\n",
       "      <td>Mon</td>\n",
       "      <td>['top', 'lucasfilm', 'star', 'war']</td>\n",
       "      <td>['direct', 'jj', 'abram', 'say', 'script', 'ne...</td>\n",
       "      <td>['film', 'new', 'star', 'war', 'movy', 'begin'...</td>\n",
       "      <td>249.333333</td>\n",
       "      <td>https://mashable.com/2014/01/20/star-wars-may-...</td>\n",
       "      <td>21700.0</td>\n",
       "      <td>...</td>\n",
       "      <td>0.889657</td>\n",
       "      <td>direct jj abram say script next star war movy ...</td>\n",
       "      <td>top lucasfilm star war</td>\n",
       "      <td>film new star war movy begin may</td>\n",
       "      <td>34</td>\n",
       "      <td>0.182796</td>\n",
       "      <td>22.250000</td>\n",
       "      <td>4.566879</td>\n",
       "      <td>1.464968</td>\n",
       "      <td>direct jj abram say script next star war movy ...</td>\n",
       "    </tr>\n",
       "    <tr>\n",
       "      <th>4</th>\n",
       "      <td>Come and Give Turntable.fm the Sendoff It Dese...</td>\n",
       "      <td>Mon, 02 Dec 2013 21:10:11 +0000</td>\n",
       "      <td>https://mashable.com/2013/12/02/turntable-shut...</td>\n",
       "      <td>Mon</td>\n",
       "      <td>['top', 'commun', 'mus', 'soc', 'med', 'turnta...</td>\n",
       "      <td>['monday', 'last', 'chant', 'ris', 'temp', 'st...</td>\n",
       "      <td>['com', 'giv', 'turntablefm', 'sendoff', 'dese...</td>\n",
       "      <td>74.000000</td>\n",
       "      <td>https://mashable.com/2013/12/02/turntable-shut...</td>\n",
       "      <td>909.0</td>\n",
       "      <td>...</td>\n",
       "      <td>0.889657</td>\n",
       "      <td>monday last chant ris temp stardom virt dj hel...</td>\n",
       "      <td>top commun mus soc med turntablefm</td>\n",
       "      <td>com giv turntablefm sendoff deserv</td>\n",
       "      <td>31</td>\n",
       "      <td>0.154229</td>\n",
       "      <td>24.125000</td>\n",
       "      <td>4.730337</td>\n",
       "      <td>1.556180</td>\n",
       "      <td>monday last chant ris temp stardom virt dj hel...</td>\n",
       "    </tr>\n",
       "  </tbody>\n",
       "</table>\n",
       "<p>5 rows × 60 columns</p>\n",
       "</div>"
      ],
      "text/plain": [
       "                                               title  \\\n",
       "0  Ask a Dev: What's 'Tap and Pay' in Android Kit...   \n",
       "1  Exoplanets Explain Why the 'Dark Side' of the ...   \n",
       "2  This App Helps You Say Goodbye to Boring Convo...   \n",
       "3   Filming of New 'Star Wars' Movie to Begin in May   \n",
       "4  Come and Give Turntable.fm the Sendoff It Dese...   \n",
       "\n",
       "                          datetime  \\\n",
       "0  Mon, 18 Nov 2013 16:15:23 +0000   \n",
       "1  Mon, 16 Jun 2014 13:15:08 +0000   \n",
       "2  Mon, 04 Aug 2014 03:57:36 +0000   \n",
       "3  Mon, 20 Jan 2014 13:33:51 +0000   \n",
       "4  Mon, 02 Dec 2013 21:10:11 +0000   \n",
       "\n",
       "                                             website check  \\\n",
       "0  https://mashable.com/2013/11/18/ask-a-dev-andr...   Mon   \n",
       "1  https://mashable.com/2014/06/16/farside-of-the...   Mon   \n",
       "2  https://mashable.com/2014/08/03/this-app-can-h...   Mon   \n",
       "3  https://mashable.com/2014/01/20/star-wars-may-...   Mon   \n",
       "4  https://mashable.com/2013/12/02/turntable-shut...   Mon   \n",
       "\n",
       "                                        Clean_topics  \\\n",
       "0  ['top', 'android', 'android', 'kitk', 'ap', 's...   \n",
       "1  ['top', 'dark', 'sid', 'moon', 'moon', 'spac',...   \n",
       "2  ['top', 'ap', 'softw', 'gadget', 'hardw', 'mob...   \n",
       "3                ['top', 'lucasfilm', 'star', 'war']   \n",
       "4  ['top', 'commun', 'mus', 'soc', 'med', 'turnta...   \n",
       "\n",
       "                                       Clean_content  \\\n",
       "0  ['new', 'android', 'kitk', 'feat', 'cal', 'tap...   \n",
       "1  ['heat', 'rady', 'young', 'ear', 'could', 'hel...   \n",
       "2  ['playerdescriptionnullimagehttpsmondrianmasha...   \n",
       "3  ['direct', 'jj', 'abram', 'say', 'script', 'ne...   \n",
       "4  ['monday', 'last', 'chant', 'ris', 'temp', 'st...   \n",
       "\n",
       "                                         Clean_title    keywords  \\\n",
       "0  ['ask', 'dev', 'what', 'tap', 'pay', 'android'...  193.750000   \n",
       "1  ['exoplanet', 'explain', 'dark', 'sid', 'moon'...   51.500000   \n",
       "2  ['ap', 'help', 'say', 'goodby', 'bor', 'convo'...   27.000000   \n",
       "3  ['film', 'new', 'star', 'war', 'movy', 'begin'...  249.333333   \n",
       "4  ['com', 'giv', 'turntablefm', 'sendoff', 'dese...   74.000000   \n",
       "\n",
       "                                                 url   shares  ...       ywk  \\\n",
       "0  https://mashable.com/2013/11/18/ask-a-dev-andr...   2600.0  ...  0.757511   \n",
       "1  https://mashable.com/2014/06/16/farside-of-the...   1500.0  ... -0.984231   \n",
       "2  https://mashable.com/2014/08/03/this-app-can-h...    997.0  ... -0.794854   \n",
       "3  https://mashable.com/2014/01/20/star-wars-may-...  21700.0  ...  0.889657   \n",
       "4  https://mashable.com/2013/12/02/turntable-shut...    909.0  ...  0.889657   \n",
       "\n",
       "                                      Clean_content2  \\\n",
       "0  new android kitk feat cal tap pay let buy thin...   \n",
       "1  heat rady young ear could help solv 50yearold ...   \n",
       "2  playerdescriptionnullimagehttpsmondrianmashabl...   \n",
       "3  direct jj abram say script next star war movy ...   \n",
       "4  monday last chant ris temp stardom virt dj hel...   \n",
       "\n",
       "                                       Clean_topics2  \\\n",
       "0  top android android kitk ap softw ask dev dev ...   \n",
       "1                  top dark sid moon moon spac world   \n",
       "2            top ap softw gadget hardw mobl soc tech   \n",
       "3                             top lucasfilm star war   \n",
       "4                 top commun mus soc med turntablefm   \n",
       "\n",
       "                               Clean_title2  num_verbs  prop_verbs  \\\n",
       "0         ask dev what tap pay android kitk         51    0.149123   \n",
       "1       exoplanet explain dark sid moon fac        123    0.132686   \n",
       "2  ap help say goodby bor convo push button         78    0.098113   \n",
       "3          film new star war movy begin may         34    0.182796   \n",
       "4        com giv turntablefm sendoff deserv         31    0.154229   \n",
       "\n",
       "   avg_sent_len  avg_word_len  avg_word_syl  \\\n",
       "0     25.307692      4.648026      1.595395   \n",
       "1     24.750000      4.897883      1.607721   \n",
       "2     30.800000      7.995110      2.151589   \n",
       "3     22.250000      4.566879      1.464968   \n",
       "4     24.125000      4.730337      1.556180   \n",
       "\n",
       "                                 Clean_content_title  \n",
       "0  new android kitk feat cal tap pay let buy thin...  \n",
       "1  heat rady young ear could help solv 50yearold ...  \n",
       "2  playerdescriptionnullimagehttpsmondrianmashabl...  \n",
       "3  direct jj abram say script next star war movy ...  \n",
       "4  monday last chant ris temp stardom virt dj hel...  \n",
       "\n",
       "[5 rows x 60 columns]"
      ]
     },
     "execution_count": 38,
     "metadata": {
      "tags": []
     },
     "output_type": "execute_result"
    }
   ],
   "source": [
    "new_content.head()"
   ]
  },
  {
   "cell_type": "code",
   "execution_count": 0,
   "metadata": {
    "colab": {
     "base_uri": "https://localhost:8080/",
     "height": 1000
    },
    "colab_type": "code",
    "id": "ENL_sdqLx8wA",
    "outputId": "22e9f65a-2cf8-4d72-8bcc-dfe6c4e145d8"
   },
   "outputs": [
    {
     "data": {
      "text/plain": [
       "['title',\n",
       " 'datetime',\n",
       " 'website',\n",
       " 'check',\n",
       " 'Clean_topics',\n",
       " 'Clean_content',\n",
       " 'Clean_title',\n",
       " 'keywords',\n",
       " 'url',\n",
       " ' shares',\n",
       " ' n_tokens_title',\n",
       " ' n_tokens_content',\n",
       " ' n_non_stop_unique_tokens',\n",
       " ' num_self_hrefs',\n",
       " ' num_imgs',\n",
       " ' num_videos',\n",
       " ' average_token_length',\n",
       " ' data_channel_is_lifestyle',\n",
       " ' data_channel_is_entertainment',\n",
       " ' data_channel_is_bus',\n",
       " ' data_channel_is_socmed',\n",
       " ' data_channel_is_tech',\n",
       " ' data_channel_is_world',\n",
       " ' is_weekend',\n",
       " ' LDA_00',\n",
       " ' LDA_01',\n",
       " ' LDA_02',\n",
       " ' LDA_03',\n",
       " ' LDA_04',\n",
       " ' global_subjectivity',\n",
       " ' global_sentiment_polarity',\n",
       " ' global_rate_positive_words',\n",
       " ' global_rate_negative_words',\n",
       " ' rate_positive_words',\n",
       " ' rate_negative_words',\n",
       " ' avg_positive_polarity',\n",
       " ' min_positive_polarity',\n",
       " ' max_positive_polarity',\n",
       " ' avg_negative_polarity',\n",
       " ' min_negative_polarity',\n",
       " ' max_negative_polarity',\n",
       " ' title_subjectivity',\n",
       " ' title_sentiment_polarity',\n",
       " ' abs_title_subjectivity',\n",
       " ' abs_title_sentiment_polarity',\n",
       " 'xhr',\n",
       " 'yhr',\n",
       " 'xday',\n",
       " 'yday',\n",
       " 'xwk',\n",
       " 'ywk',\n",
       " 'Clean_content2',\n",
       " 'Clean_topics2',\n",
       " 'Clean_title2',\n",
       " 'num_verbs',\n",
       " 'prop_verbs',\n",
       " 'avg_sent_len',\n",
       " 'avg_word_len',\n",
       " 'avg_word_syl',\n",
       " 'Clean_content_title']"
      ]
     },
     "execution_count": 39,
     "metadata": {
      "tags": []
     },
     "output_type": "execute_result"
    }
   ],
   "source": [
    "new_content.columns.tolist()"
   ]
  },
  {
   "cell_type": "code",
   "execution_count": 0,
   "metadata": {
    "colab": {},
    "colab_type": "code",
    "id": "AYwSmKERx8wC"
   },
   "outputs": [],
   "source": [
    "other_features=new_content[['keywords',\n",
    "                            ' num_self_hrefs', #num links to other Mashable articles\n",
    "                            ' num_imgs', #num images\n",
    "                            ' num_videos', #num videos\n",
    "                            ' average_token_length', #avg length of words in content\n",
    "                            ' LDA_00', #closeness to topic0\n",
    "                            ' LDA_01', #closeness to topic1\n",
    "                            ' LDA_02', #closeness to topic2\n",
    "                            ' LDA_03', #closeness to topic3\n",
    "                            ' LDA_04', #closeness to topic4\n",
    "                            ' global_subjectivity', #text subjectivity\n",
    "                            ' global_sentiment_polarity', #text sentiment polarity\n",
    "                            ' global_rate_positive_words', #rate of positive words in content\n",
    "                            ' global_rate_negative_words', #rate of negative words in content\n",
    "                            ' rate_positive_words', #rate of positive words among non-neutral tokens\n",
    "                            ' rate_negative_words', #rate of negative words among non-neutral tokens\n",
    "                            ' avg_positive_polarity',\n",
    "                            ' min_positive_polarity',\n",
    "                            ' max_positive_polarity',\n",
    "                            ' avg_negative_polarity',\n",
    "                            ' min_negative_polarity',\n",
    "                            ' max_negative_polarity',\n",
    "                            ' title_subjectivity',\n",
    "                            ' title_sentiment_polarity',\n",
    "                            ' abs_title_subjectivity',\n",
    "                            ' abs_title_sentiment_polarity',\n",
    "                            'xhr',\n",
    "                            'yhr',\n",
    "                            'xday',\n",
    "                            'yday',\n",
    "                            'xwk',\n",
    "                            'ywk',\n",
    "                            'num_verbs',\n",
    "                            'prop_verbs',\n",
    "                            'avg_sent_len',\n",
    "                            'avg_word_len',\n",
    "                            'avg_word_syl']]"
   ]
  },
  {
   "cell_type": "code",
   "execution_count": 0,
   "metadata": {
    "colab": {},
    "colab_type": "code",
    "id": "ZeayuHiMx8wE"
   },
   "outputs": [],
   "source": [
    "df=[]\n",
    "for i in range(len(new_content)):\n",
    "    tokenizer = TreebankWordTokenizer()\n",
    "    tokenized_words = tokenizer.tokenize(new_content.loc[i]['Clean_content_title'])\n",
    "    df.append(tokenized_words)"
   ]
  },
  {
   "cell_type": "code",
   "execution_count": 0,
   "metadata": {
    "colab": {},
    "colab_type": "code",
    "id": "sByJ1l4Qx8wG"
   },
   "outputs": [],
   "source": [
    "import gensim\n",
    "embedding_dim = 100\n",
    "model=gensim.models.Word2Vec(sentences=df, size = embedding_dim, window=5, workers=-1)\n",
    "model.wv.save_word2vec_format('embedding_word2vec.txt', binary=False)"
   ]
  },
  {
   "cell_type": "code",
   "execution_count": 0,
   "metadata": {
    "colab": {},
    "colab_type": "code",
    "id": "mkQjJQ4fx8wJ"
   },
   "outputs": [],
   "source": [
    "import os\n",
    "embeddings_index={}\n",
    "f=open(os.path.join('','embedding_word2vec.txt'), encoding ='utf-8')\n",
    "for line in f:\n",
    "    values=line.split()\n",
    "    word =values[0]\n",
    "    coefs=np.asarray(values[1:])\n",
    "    embeddings_index[word]=coefs\n",
    "f.close()"
   ]
  },
  {
   "cell_type": "code",
   "execution_count": 0,
   "metadata": {
    "colab": {
     "base_uri": "https://localhost:8080/",
     "height": 35
    },
    "colab_type": "code",
    "id": "O-NERg5Vx8wL",
    "outputId": "6152e706-57a3-4568-c779-3412a962cf90"
   },
   "outputs": [
    {
     "data": {
      "text/plain": [
       "46962"
      ]
     },
     "execution_count": 44,
     "metadata": {
      "tags": []
     },
     "output_type": "execute_result"
    }
   ],
   "source": [
    "words = list(model.wv.vocab)\n",
    "len(words)"
   ]
  },
  {
   "cell_type": "code",
   "execution_count": 0,
   "metadata": {
    "colab": {
     "base_uri": "https://localhost:8080/",
     "height": 35
    },
    "colab_type": "code",
    "id": "hi3qmZ7Xx8wN",
    "outputId": "5a632a83-f6da-4b24-8f53-ab51c7ba8945"
   },
   "outputs": [
    {
     "data": {
      "text/plain": [
       "2640"
      ]
     },
     "execution_count": 45,
     "metadata": {
      "tags": []
     },
     "output_type": "execute_result"
    }
   ],
   "source": [
    "#obtain max length\n",
    "max_length = 0\n",
    "for i in range(len(df)):\n",
    "    max_length = max(max_length, len(df[i]))\n",
    "max_length"
   ]
  },
  {
   "cell_type": "code",
   "execution_count": 0,
   "metadata": {
    "colab": {
     "base_uri": "https://localhost:8080/",
     "height": 35
    },
    "colab_type": "code",
    "id": "7-o1uz6Zx8wO",
    "outputId": "460cf37f-2c39-4e62-e24c-cec8a098084f"
   },
   "outputs": [
    {
     "name": "stdout",
     "output_type": "stream",
     "text": [
      "224205\n"
     ]
    }
   ],
   "source": [
    "from keras.preprocessing.text import Tokenizer\n",
    "from keras.preprocessing.sequence import pad_sequences\n",
    "tokenizer_obj = Tokenizer()\n",
    "tokenizer_obj.fit_on_texts(new_content['Clean_content_title'])\n",
    "sequences=tokenizer_obj.texts_to_sequences(new_content['Clean_content_title'])\n",
    "word_index =tokenizer_obj.word_index\n",
    "print(len(word_index))\n",
    "review_pad = pad_sequences(sequences, maxlen=max_length)"
   ]
  },
  {
   "cell_type": "code",
   "execution_count": 0,
   "metadata": {
    "colab": {},
    "colab_type": "code",
    "id": "vMEMyOCdx8wP"
   },
   "outputs": [],
   "source": [
    "x_train, x_test, y_train, y_test, other_features_train, other_features_test= train_test_split(review_pad, labels, other_features.values, random_state=1, test_size=0.2)"
   ]
  },
  {
   "cell_type": "code",
   "execution_count": 0,
   "metadata": {
    "colab": {},
    "colab_type": "code",
    "id": "PgMhJsZCx8wR"
   },
   "outputs": [],
   "source": [
    "num_words = len(word_index)+1\n",
    "embedding_matrix=np.zeros((num_words, embedding_dim))\n",
    "\n",
    "for word, i in word_index.items():\n",
    "    if i > num_words:\n",
    "        continue\n",
    "    embedding_vector=embeddings_index.get(word)\n",
    "    if embedding_vector is not None:\n",
    "        embedding_matrix[i]=embedding_vector"
   ]
  },
  {
   "cell_type": "code",
   "execution_count": 0,
   "metadata": {
    "colab": {
     "base_uri": "https://localhost:8080/",
     "height": 35
    },
    "colab_type": "code",
    "id": "iIOx3gGxx8wT",
    "outputId": "457e2838-c175-4152-c75a-137f4bcfa8f3"
   },
   "outputs": [
    {
     "data": {
      "text/plain": [
       "37"
      ]
     },
     "execution_count": 49,
     "metadata": {
      "tags": []
     },
     "output_type": "execute_result"
    }
   ],
   "source": [
    "len(other_features.columns.tolist())"
   ]
  },
  {
   "cell_type": "code",
   "execution_count": 0,
   "metadata": {
    "colab": {
     "base_uri": "https://localhost:8080/",
     "height": 568
    },
    "colab_type": "code",
    "id": "sES0oHRMx8wU",
    "outputId": "da0d666c-b131-4a0b-ee8c-59fe0737593d"
   },
   "outputs": [
    {
     "name": "stdout",
     "output_type": "stream",
     "text": [
      "Model: \"model_2\"\n",
      "__________________________________________________________________________________________________\n",
      "Layer (type)                    Output Shape         Param #     Connected to                     \n",
      "==================================================================================================\n",
      "embedding_2_input (InputLayer)  (None, 5376)         0                                            \n",
      "__________________________________________________________________________________________________\n",
      "embedding_2 (Embedding)         (None, 5376, 100)    24660400    embedding_2_input[0][0]          \n",
      "__________________________________________________________________________________________________\n",
      "dense_9_input (InputLayer)      (None, 36)           0                                            \n",
      "__________________________________________________________________________________________________\n",
      "lstm_2 (LSTM)                   (None, 32)           17024       embedding_2[0][0]                \n",
      "__________________________________________________________________________________________________\n",
      "dense_9 (Dense)                 (None, 64)           2368        dense_9_input[0][0]              \n",
      "__________________________________________________________________________________________________\n",
      "dense_7 (Dense)                 (None, 16)           528         lstm_2[0][0]                     \n",
      "__________________________________________________________________________________________________\n",
      "dense_10 (Dense)                (None, 16)           1040        dense_9[0][0]                    \n",
      "__________________________________________________________________________________________________\n",
      "dense_8 (Dense)                 (None, 1)            17          dense_7[0][0]                    \n",
      "__________________________________________________________________________________________________\n",
      "dense_11 (Dense)                (None, 1)            17          dense_10[0][0]                   \n",
      "__________________________________________________________________________________________________\n",
      "concatenate_2 (Concatenate)     (None, 2)            0           dense_8[0][0]                    \n",
      "                                                                 dense_11[0][0]                   \n",
      "__________________________________________________________________________________________________\n",
      "dense_12 (Dense)                (None, 1)            3           concatenate_2[0][0]              \n",
      "==================================================================================================\n",
      "Total params: 24,681,397\n",
      "Trainable params: 20,997\n",
      "Non-trainable params: 24,660,400\n",
      "__________________________________________________________________________________________________\n"
     ]
    }
   ],
   "source": [
    "from keras.initializers import Constant\n",
    "from keras.layers import Dense, Embedding, GRU, LSTM, Add, concatenate\n",
    "from keras.layers.embeddings import Embedding\n",
    "from keras.models import Sequential\n",
    "from keras.optimizers import Adam\n",
    "\n",
    "model1 = Sequential()\n",
    "embedding_layer = Embedding(num_words, embedding_dim, embeddings_initializer=Constant(embedding_matrix), input_length = max_length, trainable=False)\n",
    "model1.add(embedding_layer)\n",
    "model1.add(LSTM(32))\n",
    "model1.add(Dense(16, activation='relu'))\n",
    "model2 = Sequential()\n",
    "model2.add(Dense(64, activation='relu', input_shape=(35,)))\n",
    "model2.add(Dense(16, activation='relu'))\n",
    "merged= concatenate([model1.output, model2.output], axis=-1)\n",
    "merged= Dense(1, activation='linear')(merged)\n",
    "merged_model=Model([model1.input, model2.input], merged)\n",
    "opt = Adam(lr=0.005)\n",
    "merged_model.compile(loss='mean_squared_error', optimizer=opt, metrics=['mean_squared_error', 'mae'])\n",
    "merged_model.summary()"
   ]
  },
  {
   "cell_type": "code",
   "execution_count": 0,
   "metadata": {
    "colab": {
     "base_uri": "https://localhost:8080/",
     "height": 712
    },
    "colab_type": "code",
    "id": "mx0vvMZmx8wW",
    "outputId": "382406d3-83e6-41c8-9019-51e191337771"
   },
   "outputs": [
    {
     "name": "stdout",
     "output_type": "stream",
     "text": [
      "Train on 27495 samples, validate on 3055 samples\n",
      "Epoch 1/30\n",
      "27495/27495 [==============================] - 1753s 64ms/step - loss: 157990357.2475 - mean_squared_error: 157990432.0000 - mae: 3163.9880 - val_loss: 49242074.2005 - val_mean_squared_error: 49242076.0000 - val_mae: 2800.5608\n",
      "Epoch 2/30\n",
      "27495/27495 [==============================] - 1783s 65ms/step - loss: 156648843.6927 - mean_squared_error: 156648928.0000 - mae: 3206.2065 - val_loss: 49056081.9951 - val_mean_squared_error: 49056076.0000 - val_mae: 2864.8059\n",
      "Epoch 3/30\n",
      "27495/27495 [==============================] - 1788s 65ms/step - loss: 156345965.0836 - mean_squared_error: 156345968.0000 - mae: 3179.9512 - val_loss: 49553398.1080 - val_mean_squared_error: 49553400.0000 - val_mae: 3351.2322\n",
      "Epoch 4/30\n",
      "27495/27495 [==============================] - 1794s 65ms/step - loss: 156149407.4363 - mean_squared_error: 156149456.0000 - mae: 3220.2844 - val_loss: 49291735.9558 - val_mean_squared_error: 49291732.0000 - val_mae: 3169.4392\n",
      "Epoch 5/30\n",
      "27495/27495 [==============================] - 1798s 65ms/step - loss: 155925879.5912 - mean_squared_error: 155925888.0000 - mae: 3200.8403 - val_loss: 48967123.8601 - val_mean_squared_error: 48967136.0000 - val_mae: 2900.7944\n",
      "Epoch 6/30\n",
      "27495/27495 [==============================] - 1806s 66ms/step - loss: 155796896.6344 - mean_squared_error: 155796928.0000 - mae: 3200.1970 - val_loss: 48870662.8805 - val_mean_squared_error: 48870668.0000 - val_mae: 2862.4253\n",
      "Epoch 7/30\n",
      "27495/27495 [==============================] - 1818s 66ms/step - loss: 155604339.3101 - mean_squared_error: 155604384.0000 - mae: 3194.2539 - val_loss: 48850077.2840 - val_mean_squared_error: 48850084.0000 - val_mae: 2903.7559\n",
      "Epoch 8/30\n",
      "27495/27495 [==============================] - 1817s 66ms/step - loss: 155520192.8392 - mean_squared_error: 155520064.0000 - mae: 3185.6707 - val_loss: 48866603.9198 - val_mean_squared_error: 48866600.0000 - val_mae: 2976.8091\n",
      "Epoch 9/30\n",
      "27495/27495 [==============================] - 1820s 66ms/step - loss: 155379200.7705 - mean_squared_error: 155379216.0000 - mae: 3194.4106 - val_loss: 48877765.1129 - val_mean_squared_error: 48877764.0000 - val_mae: 3084.3149\n",
      "Epoch 10/30\n",
      "27495/27495 [==============================] - 1823s 66ms/step - loss: 155316946.2032 - mean_squared_error: 155316880.0000 - mae: 3198.3396 - val_loss: 48755471.1391 - val_mean_squared_error: 48755460.0000 - val_mae: 2869.8215\n",
      "Epoch 11/30\n",
      "27495/27495 [==============================] - 1839s 67ms/step - loss: 155306675.9090 - mean_squared_error: 155306640.0000 - mae: 3203.3513 - val_loss: 48776547.4730 - val_mean_squared_error: 48776548.0000 - val_mae: 3016.2747\n",
      "Epoch 12/30\n",
      "27495/27495 [==============================] - 1829s 67ms/step - loss: 155228943.9213 - mean_squared_error: 155228976.0000 - mae: 3187.6797 - val_loss: 48783917.3813 - val_mean_squared_error: 48783916.0000 - val_mae: 3104.5847\n",
      "Epoch 13/30\n",
      "27495/27495 [==============================] - 1812s 66ms/step - loss: 155192401.4664 - mean_squared_error: 155192448.0000 - mae: 3204.8918 - val_loss: 48633771.9542 - val_mean_squared_error: 48633768.0000 - val_mae: 2894.2832\n",
      "Epoch 14/30\n",
      "27495/27495 [==============================] - 1816s 66ms/step - loss: 155129972.8929 - mean_squared_error: 155130016.0000 - mae: 3189.9702 - val_loss: 48641464.9002 - val_mean_squared_error: 48641472.0000 - val_mae: 2929.3516\n",
      "Epoch 15/30\n",
      "27495/27495 [==============================] - 1824s 66ms/step - loss: 155011007.5854 - mean_squared_error: 155010976.0000 - mae: 3205.7383 - val_loss: 48585862.3961 - val_mean_squared_error: 48585864.0000 - val_mae: 2842.8835\n",
      "Epoch 16/30\n",
      "27495/27495 [==============================] - 1835s 67ms/step - loss: 155140240.1493 - mean_squared_error: 155140224.0000 - mae: 3195.9973 - val_loss: 48606107.0196 - val_mean_squared_error: 48606108.0000 - val_mae: 2910.6270\n",
      "Epoch 17/30\n",
      "27495/27495 [==============================] - 1840s 67ms/step - loss: 155002286.2578 - mean_squared_error: 155002336.0000 - mae: 3205.4336 - val_loss: 48604263.8658 - val_mean_squared_error: 48604260.0000 - val_mae: 2913.8230\n",
      "Epoch 18/30\n",
      "27495/27495 [==============================] - 1853s 67ms/step - loss: 155066989.5398 - mean_squared_error: 155066960.0000 - mae: 3190.6843 - val_loss: 49501305.9345 - val_mean_squared_error: 49501300.0000 - val_mae: 3378.7461\n"
     ]
    },
    {
     "data": {
      "text/plain": [
       "<keras.callbacks.callbacks.History at 0x7fc594b5ca20>"
      ]
     },
     "execution_count": 56,
     "metadata": {
      "tags": []
     },
     "output_type": "execute_result"
    }
   ],
   "source": [
    "early_stopping = EarlyStopping(patience=3, monitor='val_loss')\n",
    "merged_model.fit([x_train, other_features_train], y_train,validation_split=0.1, batch_size=50, epochs=30, callbacks=[early_stopping])"
   ]
  },
  {
   "cell_type": "code",
   "execution_count": 0,
   "metadata": {
    "colab": {},
    "colab_type": "code",
    "id": "QDtAKs75x8wY"
   },
   "outputs": [],
   "source": [
    "modelName=\"Model1\"\n",
    "merged_model.save('model_{}_{}.h5'.format(modelName, str(datetime.now()).replace(' ', '_').replace(':', '')[:17]))\n",
    "#model = keras.models.load_model('saved-model-35.h5')"
   ]
  },
  {
   "cell_type": "code",
   "execution_count": 0,
   "metadata": {
    "colab": {
     "base_uri": "https://localhost:8080/",
     "height": 70
    },
    "colab_type": "code",
    "id": "yqIQN7rdx8wZ",
    "outputId": "677ba20e-32e3-4bc4-8ce5-cafbfa55b702"
   },
   "outputs": [
    {
     "name": "stdout",
     "output_type": "stream",
     "text": [
      "Test loss: 49514183.258055806\n",
      "Test rmse: 7036.631527801907\n",
      "Test mae: 3382.8655056689977\n"
     ]
    }
   ],
   "source": [
    "predicted_y= merged_model.predict([x_test, other_features_test])\n",
    "total_mse = mean_squared_error(y_test, predicted_y)\n",
    "print('Test loss: {}'.format(total_mse))\n",
    "total_rmse = (total_mse**0.5)\n",
    "print('Test rmse: {}'.format(total_rmse))\n",
    "total_mae=mean_absolute_error(y_test, predicted_y)\n",
    "print('Test mae: {}'.format(total_mae))"
   ]
  },
  {
   "cell_type": "code",
   "execution_count": 0,
   "metadata": {
    "colab": {},
    "colab_type": "code",
    "id": "W6Ox_QEboDKT"
   },
   "outputs": [],
   "source": [
    "predicted_y"
   ]
  },
  {
   "cell_type": "code",
   "execution_count": 0,
   "metadata": {
    "colab": {},
    "colab_type": "code",
    "id": "pQlpYhHin3Y3"
   },
   "outputs": [],
   "source": [
    "predicted_y.to_csv('NN_predicted_y.csv', index = False)"
   ]
  },
  {
   "cell_type": "markdown",
   "metadata": {
    "colab_type": "text",
    "id": "OmqawQDYLHp-"
   },
   "source": [
    "# Further analysis"
   ]
  },
  {
   "cell_type": "code",
   "execution_count": 0,
   "metadata": {
    "colab": {},
    "colab_type": "code",
    "id": "35cTewNnLHp-",
    "outputId": "4ba75bbe-eceb-42c4-a65d-be71fe4b3192"
   },
   "outputs": [
    {
     "data": {
      "text/plain": [
       "LinearRegression(copy_X=True, fit_intercept=True, n_jobs=None, normalize=False)"
      ]
     },
     "execution_count": 50,
     "metadata": {
      "tags": []
     },
     "output_type": "execute_result"
    }
   ],
   "source": [
    "clf = linear_model.LinearRegression().fit(other_features_train, y_train)\n",
    "clf"
   ]
  },
  {
   "cell_type": "code",
   "execution_count": 0,
   "metadata": {
    "colab": {},
    "colab_type": "code",
    "id": "VbK_fvQDLHp_"
   },
   "outputs": [],
   "source": [
    "X = other_features.columns.tolist()"
   ]
  },
  {
   "cell_type": "code",
   "execution_count": 0,
   "metadata": {
    "colab": {},
    "colab_type": "code",
    "id": "7CcSduAuLHqA",
    "outputId": "480b634a-4303-4a4b-c09d-e56de02549d0",
    "scrolled": true
   },
   "outputs": [
    {
     "data": {
      "text/html": [
       "<div>\n",
       "<style scoped>\n",
       "    .dataframe tbody tr th:only-of-type {\n",
       "        vertical-align: middle;\n",
       "    }\n",
       "\n",
       "    .dataframe tbody tr th {\n",
       "        vertical-align: top;\n",
       "    }\n",
       "\n",
       "    .dataframe thead th {\n",
       "        text-align: right;\n",
       "    }\n",
       "</style>\n",
       "<table border=\"1\" class=\"dataframe\">\n",
       "  <thead>\n",
       "    <tr style=\"text-align: right;\">\n",
       "      <th></th>\n",
       "      <th>Feature</th>\n",
       "      <th>Coefficients</th>\n",
       "    </tr>\n",
       "  </thead>\n",
       "  <tbody>\n",
       "    <tr>\n",
       "      <th>0</th>\n",
       "      <td>keywords</td>\n",
       "      <td>-0.335574</td>\n",
       "    </tr>\n",
       "    <tr>\n",
       "      <th>1</th>\n",
       "      <td>num_self_hrefs</td>\n",
       "      <td>-35.078422</td>\n",
       "    </tr>\n",
       "    <tr>\n",
       "      <th>2</th>\n",
       "      <td>num_imgs</td>\n",
       "      <td>36.285513</td>\n",
       "    </tr>\n",
       "    <tr>\n",
       "      <th>3</th>\n",
       "      <td>num_videos</td>\n",
       "      <td>23.226582</td>\n",
       "    </tr>\n",
       "    <tr>\n",
       "      <th>4</th>\n",
       "      <td>average_token_length</td>\n",
       "      <td>-164.403957</td>\n",
       "    </tr>\n",
       "    <tr>\n",
       "      <th>5</th>\n",
       "      <td>LDA_00</td>\n",
       "      <td>-1534.283092</td>\n",
       "    </tr>\n",
       "    <tr>\n",
       "      <th>6</th>\n",
       "      <td>LDA_01</td>\n",
       "      <td>-2671.872116</td>\n",
       "    </tr>\n",
       "    <tr>\n",
       "      <th>7</th>\n",
       "      <td>LDA_02</td>\n",
       "      <td>-3367.979682</td>\n",
       "    </tr>\n",
       "    <tr>\n",
       "      <th>8</th>\n",
       "      <td>LDA_03</td>\n",
       "      <td>325.942190</td>\n",
       "    </tr>\n",
       "    <tr>\n",
       "      <th>9</th>\n",
       "      <td>LDA_04</td>\n",
       "      <td>-1992.235042</td>\n",
       "    </tr>\n",
       "    <tr>\n",
       "      <th>10</th>\n",
       "      <td>global_subjectivity</td>\n",
       "      <td>4387.433423</td>\n",
       "    </tr>\n",
       "    <tr>\n",
       "      <th>11</th>\n",
       "      <td>global_sentiment_polarity</td>\n",
       "      <td>769.349897</td>\n",
       "    </tr>\n",
       "    <tr>\n",
       "      <th>12</th>\n",
       "      <td>global_rate_positive_words</td>\n",
       "      <td>-12696.674946</td>\n",
       "    </tr>\n",
       "    <tr>\n",
       "      <th>13</th>\n",
       "      <td>global_rate_negative_words</td>\n",
       "      <td>5192.716988</td>\n",
       "    </tr>\n",
       "    <tr>\n",
       "      <th>14</th>\n",
       "      <td>rate_positive_words</td>\n",
       "      <td>-1373.851498</td>\n",
       "    </tr>\n",
       "    <tr>\n",
       "      <th>15</th>\n",
       "      <td>rate_negative_words</td>\n",
       "      <td>-1533.557232</td>\n",
       "    </tr>\n",
       "    <tr>\n",
       "      <th>16</th>\n",
       "      <td>avg_positive_polarity</td>\n",
       "      <td>-1854.889314</td>\n",
       "    </tr>\n",
       "    <tr>\n",
       "      <th>17</th>\n",
       "      <td>min_positive_polarity</td>\n",
       "      <td>-1416.077809</td>\n",
       "    </tr>\n",
       "    <tr>\n",
       "      <th>18</th>\n",
       "      <td>max_positive_polarity</td>\n",
       "      <td>380.339362</td>\n",
       "    </tr>\n",
       "    <tr>\n",
       "      <th>19</th>\n",
       "      <td>avg_negative_polarity</td>\n",
       "      <td>-239.284286</td>\n",
       "    </tr>\n",
       "    <tr>\n",
       "      <th>20</th>\n",
       "      <td>min_negative_polarity</td>\n",
       "      <td>-450.917337</td>\n",
       "    </tr>\n",
       "    <tr>\n",
       "      <th>21</th>\n",
       "      <td>max_negative_polarity</td>\n",
       "      <td>-2152.870495</td>\n",
       "    </tr>\n",
       "    <tr>\n",
       "      <th>22</th>\n",
       "      <td>title_subjectivity</td>\n",
       "      <td>-271.796336</td>\n",
       "    </tr>\n",
       "    <tr>\n",
       "      <th>23</th>\n",
       "      <td>title_sentiment_polarity</td>\n",
       "      <td>-24.527706</td>\n",
       "    </tr>\n",
       "    <tr>\n",
       "      <th>24</th>\n",
       "      <td>abs_title_subjectivity</td>\n",
       "      <td>728.557157</td>\n",
       "    </tr>\n",
       "    <tr>\n",
       "      <th>25</th>\n",
       "      <td>abs_title_sentiment_polarity</td>\n",
       "      <td>1170.582687</td>\n",
       "    </tr>\n",
       "    <tr>\n",
       "      <th>26</th>\n",
       "      <td>xhr</td>\n",
       "      <td>91.242115</td>\n",
       "    </tr>\n",
       "    <tr>\n",
       "      <th>27</th>\n",
       "      <td>yhr</td>\n",
       "      <td>137.540964</td>\n",
       "    </tr>\n",
       "    <tr>\n",
       "      <th>28</th>\n",
       "      <td>xday</td>\n",
       "      <td>-198.198246</td>\n",
       "    </tr>\n",
       "    <tr>\n",
       "      <th>29</th>\n",
       "      <td>yday</td>\n",
       "      <td>162.247186</td>\n",
       "    </tr>\n",
       "    <tr>\n",
       "      <th>30</th>\n",
       "      <td>xwk</td>\n",
       "      <td>174.029140</td>\n",
       "    </tr>\n",
       "    <tr>\n",
       "      <th>31</th>\n",
       "      <td>ywk</td>\n",
       "      <td>259.592205</td>\n",
       "    </tr>\n",
       "    <tr>\n",
       "      <th>32</th>\n",
       "      <td>num_verbs</td>\n",
       "      <td>-0.632402</td>\n",
       "    </tr>\n",
       "    <tr>\n",
       "      <th>33</th>\n",
       "      <td>prop_verbs</td>\n",
       "      <td>-517.601054</td>\n",
       "    </tr>\n",
       "    <tr>\n",
       "      <th>34</th>\n",
       "      <td>avg_sent_len</td>\n",
       "      <td>-6.124485</td>\n",
       "    </tr>\n",
       "    <tr>\n",
       "      <th>35</th>\n",
       "      <td>avg_word_len</td>\n",
       "      <td>-170.649726</td>\n",
       "    </tr>\n",
       "    <tr>\n",
       "      <th>36</th>\n",
       "      <td>avg_word_syl</td>\n",
       "      <td>1032.535138</td>\n",
       "    </tr>\n",
       "  </tbody>\n",
       "</table>\n",
       "</div>"
      ],
      "text/plain": [
       "                          Feature  Coefficients\n",
       "0                        keywords     -0.335574\n",
       "1                  num_self_hrefs    -35.078422\n",
       "2                        num_imgs     36.285513\n",
       "3                      num_videos     23.226582\n",
       "4            average_token_length   -164.403957\n",
       "5                          LDA_00  -1534.283092\n",
       "6                          LDA_01  -2671.872116\n",
       "7                          LDA_02  -3367.979682\n",
       "8                          LDA_03    325.942190\n",
       "9                          LDA_04  -1992.235042\n",
       "10            global_subjectivity   4387.433423\n",
       "11      global_sentiment_polarity    769.349897\n",
       "12     global_rate_positive_words -12696.674946\n",
       "13     global_rate_negative_words   5192.716988\n",
       "14            rate_positive_words  -1373.851498\n",
       "15            rate_negative_words  -1533.557232\n",
       "16          avg_positive_polarity  -1854.889314\n",
       "17          min_positive_polarity  -1416.077809\n",
       "18          max_positive_polarity    380.339362\n",
       "19          avg_negative_polarity   -239.284286\n",
       "20          min_negative_polarity   -450.917337\n",
       "21          max_negative_polarity  -2152.870495\n",
       "22             title_subjectivity   -271.796336\n",
       "23       title_sentiment_polarity    -24.527706\n",
       "24         abs_title_subjectivity    728.557157\n",
       "25   abs_title_sentiment_polarity   1170.582687\n",
       "26                            xhr     91.242115\n",
       "27                            yhr    137.540964\n",
       "28                           xday   -198.198246\n",
       "29                           yday    162.247186\n",
       "30                            xwk    174.029140\n",
       "31                            ywk    259.592205\n",
       "32                      num_verbs     -0.632402\n",
       "33                     prop_verbs   -517.601054\n",
       "34                   avg_sent_len     -6.124485\n",
       "35                   avg_word_len   -170.649726\n",
       "36                   avg_word_syl   1032.535138"
      ]
     },
     "execution_count": 52,
     "metadata": {
      "tags": []
     },
     "output_type": "execute_result"
    }
   ],
   "source": [
    "coefficients = pd.DataFrame({'Feature': X, 'Coefficients': np.transpose(clf.coef_)})\n",
    "coefficients"
   ]
  },
  {
   "cell_type": "code",
   "execution_count": 0,
   "metadata": {
    "colab": {},
    "colab_type": "code",
    "id": "TK3DBwP2LHqD",
    "outputId": "525f02bf-b642-4166-f317-ebb691d15033"
   },
   "outputs": [
    {
     "data": {
      "image/png": "[encoded data removed]",
      "text/plain": [
       "<Figure size 360x720 with 1 Axes>"
      ]
     },
     "metadata": {
      "needs_background": "light",
      "tags": []
     },
     "output_type": "display_data"
    }
   ],
   "source": [
    "md_lg = lightgbm.LGBMRegressor(random_state = 0)\n",
    "md_lg.fit(other_features_train, y_train)\n",
    "features = other_features.columns.tolist()\n",
    "importances = md_lg.feature_importances_\n",
    "\n",
    "plt.subplots(figsize=(5, 10))\n",
    "\n",
    "indices = np.argsort(importances)\n",
    "plt.title('Feature Importances')\n",
    "plt.barh(range(len(indices)), importances[indices], color='b', align='center')\n",
    "plt.yticks(range(len(indices)), [features[i] for i in indices])\n",
    "plt.xlabel('Relative Importance')\n",
    "plt.show();"
   ]
  },
  {
   "cell_type": "code",
   "execution_count": 0,
   "metadata": {
    "colab": {},
    "colab_type": "code",
    "id": "tEec_QlYLHqE"
   },
   "outputs": [],
   "source": []
  }
 ],
 "metadata": {
  "colab": {
   "collapsed_sections": [
    "4Yc7wL4lx8vb",
    "NGA5VBbqx8vf",
    "IGcpni0Gx8vi",
    "XaohGHjbx8vm"
   ],
   "name": "Final_Project_v5.2 (with p-values).ipynb",
   "provenance": [],
   "toc_visible": true
  },
  "kernelspec": {
   "display_name": "Python 3",
   "language": "python",
   "name": "python3"
  },
  "language_info": {
   "codemirror_mode": {
    "name": "ipython",
    "version": 3
   },
   "file_extension": ".py",
   "mimetype": "text/x-python",
   "name": "python",
   "nbconvert_exporter": "python",
   "pygments_lexer": "ipython3",
   "version": "3.6.5"
  }
 },
 "nbformat": 4,
 "nbformat_minor": 1
}
